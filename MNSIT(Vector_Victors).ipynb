{
 "cells": [
  {
   "cell_type": "markdown",
   "metadata": {
    "id": "O3taMTaQi35p"
   },
   "source": [
    "# MNIST - Digit Recognizer"
   ]
  },
  {
   "cell_type": "markdown",
   "metadata": {
    "id": "oucgPfati35r"
   },
   "source": [
    "Source of the dataset: https://www.kaggle.com/competitions/digit-recognizer/data\n",
    "\n",
    "We are using SVM as one of the classifications methods to identify handwritten digits based on the pixels values in the data set. More information on data sets is in the next section:\n"
   ]
  },
  {
   "cell_type": "markdown",
   "metadata": {
    "id": "bbI0wakBi35s"
   },
   "source": [
    "### Explaination of data sets"
   ]
  },
  {
   "cell_type": "markdown",
   "metadata": {
    "id": "k96BH50Bi35s"
   },
   "source": [
    "The data files train.csv and test.csv contain gray-scale images of hand-drawn digits, from zero through nine.\n",
    "\n",
    "Each image is 28 pixels in height and 28 pixels in width, for a total of 784 pixels in total. Each pixel has a single pixel-value associated with it, indicating the lightness or darkness of that pixel, with higher numbers meaning darker. This pixel-value is an integer between 0 and 255, inclusive.\n",
    "\n",
    "The training data set, (train.csv), has 785 columns. The first column, called \"label\", is the digit that was drawn by the user. The rest of the columns contain the pixel-values of the associated image.\n",
    "\n",
    "Each pixel column in the training set has a name like pixelx, where x is an integer between 0 and 783, inclusive. To locate this pixel on the image, suppose that we have decomposed x as x = i * 28 + j, where i and j are integers between 0 and 27, inclusive. Then pixelx is located on row i and column j of a 28 x 28 matrix, (indexing by zero)."
   ]
  },
  {
   "cell_type": "markdown",
   "metadata": {},
   "source": [
    "### Classification Methods"
   ]
  },
  {
   "cell_type": "markdown",
   "metadata": {},
   "source": [
    "Here, we are trying to use two machine learning methods - **Support Vector Machines** and **Convolutional Neural Network**. We will also try to figure out the optimal parameters to get the best accuracies"
   ]
  },
  {
   "cell_type": "markdown",
   "metadata": {},
   "source": [
    "# SVM"
   ]
  },
  {
   "cell_type": "markdown",
   "metadata": {},
   "source": [
    "We are using SVM as one of the classifications methods to identify handwritten digits based on the pixel’s values in the data set. SVM is highly effective in high dimensional spaces. This uses a subset of training points called support vectors in the decision functions making it more memory efficient. \n",
    "In our problem, we used 2 models, Linear and RBF models of SVM, evaluate the performances of each model and choose the high performing model. \n"
   ]
  },
  {
   "cell_type": "markdown",
   "metadata": {
    "id": "z5lGHb22i35s"
   },
   "source": [
    "## Importing Libraries"
   ]
  },
  {
   "cell_type": "code",
   "execution_count": 1,
   "metadata": {
    "id": "ByT9sTZMi35s"
   },
   "outputs": [],
   "source": [
    "import warnings\n",
    "warnings.filterwarnings('ignore')"
   ]
  },
  {
   "cell_type": "code",
   "execution_count": 2,
   "metadata": {
    "id": "qDEaVvLAi35t"
   },
   "outputs": [],
   "source": [
    "'''Importing all the necessary libraries for SVM'''\n",
    "import numpy as np\n",
    "import pandas as pd\n",
    "\n",
    "# For Visualisation\n",
    "import matplotlib.pyplot as plt\n",
    "import seaborn as sns\n",
    "\n",
    "# For Model building\n",
    "from sklearn.svm import SVC\n",
    "from sklearn.model_selection import train_test_split\n",
    "\n",
    "# For metric evaluation\n",
    "from sklearn import metrics\n",
    "from sklearn.metrics import confusion_matrix\n",
    "\n",
    "# For Cross validation and regularization model building\n",
    "from sklearn.model_selection import KFold\n",
    "from sklearn.model_selection import cross_val_score\n",
    "from sklearn.model_selection import GridSearchCV\n",
    "\n",
    "# For scaling\n",
    "from sklearn.preprocessing import scale"
   ]
  },
  {
   "cell_type": "markdown",
   "metadata": {
    "id": "YSOVZKc7i35u"
   },
   "source": [
    "## Data Reading"
   ]
  },
  {
   "cell_type": "code",
   "execution_count": 3,
   "metadata": {
    "colab": {
     "base_uri": "https://localhost:8080/",
     "height": 300
    },
    "id": "ARvQmSvXi35u",
    "outputId": "ba352c76-db31-4f20-f777-5236c8f7a1ad"
   },
   "outputs": [
    {
     "data": {
      "text/html": [
       "<div>\n",
       "<style scoped>\n",
       "    .dataframe tbody tr th:only-of-type {\n",
       "        vertical-align: middle;\n",
       "    }\n",
       "\n",
       "    .dataframe tbody tr th {\n",
       "        vertical-align: top;\n",
       "    }\n",
       "\n",
       "    .dataframe thead th {\n",
       "        text-align: right;\n",
       "    }\n",
       "</style>\n",
       "<table border=\"1\" class=\"dataframe\">\n",
       "  <thead>\n",
       "    <tr style=\"text-align: right;\">\n",
       "      <th></th>\n",
       "      <th>label</th>\n",
       "      <th>pixel0</th>\n",
       "      <th>pixel1</th>\n",
       "      <th>pixel2</th>\n",
       "      <th>pixel3</th>\n",
       "      <th>pixel4</th>\n",
       "      <th>pixel5</th>\n",
       "      <th>pixel6</th>\n",
       "      <th>pixel7</th>\n",
       "      <th>pixel8</th>\n",
       "      <th>...</th>\n",
       "      <th>pixel774</th>\n",
       "      <th>pixel775</th>\n",
       "      <th>pixel776</th>\n",
       "      <th>pixel777</th>\n",
       "      <th>pixel778</th>\n",
       "      <th>pixel779</th>\n",
       "      <th>pixel780</th>\n",
       "      <th>pixel781</th>\n",
       "      <th>pixel782</th>\n",
       "      <th>pixel783</th>\n",
       "    </tr>\n",
       "  </thead>\n",
       "  <tbody>\n",
       "    <tr>\n",
       "      <th>0</th>\n",
       "      <td>1</td>\n",
       "      <td>0</td>\n",
       "      <td>0</td>\n",
       "      <td>0</td>\n",
       "      <td>0</td>\n",
       "      <td>0</td>\n",
       "      <td>0</td>\n",
       "      <td>0</td>\n",
       "      <td>0</td>\n",
       "      <td>0</td>\n",
       "      <td>...</td>\n",
       "      <td>0</td>\n",
       "      <td>0</td>\n",
       "      <td>0</td>\n",
       "      <td>0</td>\n",
       "      <td>0</td>\n",
       "      <td>0</td>\n",
       "      <td>0</td>\n",
       "      <td>0</td>\n",
       "      <td>0</td>\n",
       "      <td>0</td>\n",
       "    </tr>\n",
       "    <tr>\n",
       "      <th>1</th>\n",
       "      <td>0</td>\n",
       "      <td>0</td>\n",
       "      <td>0</td>\n",
       "      <td>0</td>\n",
       "      <td>0</td>\n",
       "      <td>0</td>\n",
       "      <td>0</td>\n",
       "      <td>0</td>\n",
       "      <td>0</td>\n",
       "      <td>0</td>\n",
       "      <td>...</td>\n",
       "      <td>0</td>\n",
       "      <td>0</td>\n",
       "      <td>0</td>\n",
       "      <td>0</td>\n",
       "      <td>0</td>\n",
       "      <td>0</td>\n",
       "      <td>0</td>\n",
       "      <td>0</td>\n",
       "      <td>0</td>\n",
       "      <td>0</td>\n",
       "    </tr>\n",
       "    <tr>\n",
       "      <th>2</th>\n",
       "      <td>1</td>\n",
       "      <td>0</td>\n",
       "      <td>0</td>\n",
       "      <td>0</td>\n",
       "      <td>0</td>\n",
       "      <td>0</td>\n",
       "      <td>0</td>\n",
       "      <td>0</td>\n",
       "      <td>0</td>\n",
       "      <td>0</td>\n",
       "      <td>...</td>\n",
       "      <td>0</td>\n",
       "      <td>0</td>\n",
       "      <td>0</td>\n",
       "      <td>0</td>\n",
       "      <td>0</td>\n",
       "      <td>0</td>\n",
       "      <td>0</td>\n",
       "      <td>0</td>\n",
       "      <td>0</td>\n",
       "      <td>0</td>\n",
       "    </tr>\n",
       "    <tr>\n",
       "      <th>3</th>\n",
       "      <td>4</td>\n",
       "      <td>0</td>\n",
       "      <td>0</td>\n",
       "      <td>0</td>\n",
       "      <td>0</td>\n",
       "      <td>0</td>\n",
       "      <td>0</td>\n",
       "      <td>0</td>\n",
       "      <td>0</td>\n",
       "      <td>0</td>\n",
       "      <td>...</td>\n",
       "      <td>0</td>\n",
       "      <td>0</td>\n",
       "      <td>0</td>\n",
       "      <td>0</td>\n",
       "      <td>0</td>\n",
       "      <td>0</td>\n",
       "      <td>0</td>\n",
       "      <td>0</td>\n",
       "      <td>0</td>\n",
       "      <td>0</td>\n",
       "    </tr>\n",
       "    <tr>\n",
       "      <th>4</th>\n",
       "      <td>0</td>\n",
       "      <td>0</td>\n",
       "      <td>0</td>\n",
       "      <td>0</td>\n",
       "      <td>0</td>\n",
       "      <td>0</td>\n",
       "      <td>0</td>\n",
       "      <td>0</td>\n",
       "      <td>0</td>\n",
       "      <td>0</td>\n",
       "      <td>...</td>\n",
       "      <td>0</td>\n",
       "      <td>0</td>\n",
       "      <td>0</td>\n",
       "      <td>0</td>\n",
       "      <td>0</td>\n",
       "      <td>0</td>\n",
       "      <td>0</td>\n",
       "      <td>0</td>\n",
       "      <td>0</td>\n",
       "      <td>0</td>\n",
       "    </tr>\n",
       "  </tbody>\n",
       "</table>\n",
       "<p>5 rows × 785 columns</p>\n",
       "</div>"
      ],
      "text/plain": [
       "   label  pixel0  pixel1  pixel2  pixel3  pixel4  pixel5  pixel6  pixel7  \\\n",
       "0      1       0       0       0       0       0       0       0       0   \n",
       "1      0       0       0       0       0       0       0       0       0   \n",
       "2      1       0       0       0       0       0       0       0       0   \n",
       "3      4       0       0       0       0       0       0       0       0   \n",
       "4      0       0       0       0       0       0       0       0       0   \n",
       "\n",
       "   pixel8  ...  pixel774  pixel775  pixel776  pixel777  pixel778  pixel779  \\\n",
       "0       0  ...         0         0         0         0         0         0   \n",
       "1       0  ...         0         0         0         0         0         0   \n",
       "2       0  ...         0         0         0         0         0         0   \n",
       "3       0  ...         0         0         0         0         0         0   \n",
       "4       0  ...         0         0         0         0         0         0   \n",
       "\n",
       "   pixel780  pixel781  pixel782  pixel783  \n",
       "0         0         0         0         0  \n",
       "1         0         0         0         0  \n",
       "2         0         0         0         0  \n",
       "3         0         0         0         0  \n",
       "4         0         0         0         0  \n",
       "\n",
       "[5 rows x 785 columns]"
      ]
     },
     "execution_count": 3,
     "metadata": {},
     "output_type": "execute_result"
    }
   ],
   "source": [
    "'''Downloaded the data set from Kaggle: https://www.kaggle.com/competitions/digit-recognizer/data. Extracting only the \n",
    "train data set '''\n",
    "digit = pd.read_csv(\"train.csv\")\n",
    "digit.head()"
   ]
  },
  {
   "cell_type": "markdown",
   "metadata": {
    "id": "s68joaqEi35v"
   },
   "source": [
    "The training data set, (train.csv), has 785 columns. The first column is \"label\" - indicates the number drawn based on the pixel values in the subsequent columns(the rest of 784 columns)."
   ]
  },
  {
   "cell_type": "code",
   "execution_count": 4,
   "metadata": {
    "colab": {
     "base_uri": "https://localhost:8080/"
    },
    "id": "xdiJW1bGi35v",
    "outputId": "e4b28fa9-4c78-486f-ff65-08458bdbc76e"
   },
   "outputs": [
    {
     "data": {
      "text/plain": [
       "(42000, 785)"
      ]
     },
     "execution_count": 4,
     "metadata": {},
     "output_type": "execute_result"
    }
   ],
   "source": [
    "digit.shape #Each image is 28 pixels in height and 28 pixels in width, for a total of 784 pixels in total = 784 columns"
   ]
  },
  {
   "cell_type": "code",
   "execution_count": 5,
   "metadata": {
    "colab": {
     "base_uri": "https://localhost:8080/"
    },
    "id": "mVFCQ0fUi35v",
    "outputId": "d4a9167d-f470-4336-a3a1-8a6761f7e2ca"
   },
   "outputs": [
    {
     "data": {
      "text/plain": [
       "Index(['label', 'pixel0', 'pixel1', 'pixel2', 'pixel3', 'pixel4', 'pixel5',\n",
       "       'pixel6', 'pixel7', 'pixel8',\n",
       "       ...\n",
       "       'pixel774', 'pixel775', 'pixel776', 'pixel777', 'pixel778', 'pixel779',\n",
       "       'pixel780', 'pixel781', 'pixel782', 'pixel783'],\n",
       "      dtype='object', length=785)"
      ]
     },
     "execution_count": 5,
     "metadata": {},
     "output_type": "execute_result"
    }
   ],
   "source": [
    "'''there are 785 columns with 784 as pixel cols and one of cols as 'label' '''\n",
    "digit.columns"
   ]
  },
  {
   "cell_type": "code",
   "execution_count": 6,
   "metadata": {
    "colab": {
     "base_uri": "https://localhost:8080/"
    },
    "id": "WFfNt942i35w",
    "outputId": "40d65cc0-d38c-41e9-d5a5-d2c112e962c4"
   },
   "outputs": [
    {
     "data": {
      "text/plain": [
       "0    4132\n",
       "1    4684\n",
       "2    4177\n",
       "3    4351\n",
       "4    4072\n",
       "5    3795\n",
       "6    4137\n",
       "7    4401\n",
       "8    4063\n",
       "9    4188\n",
       "Name: label, dtype: int64"
      ]
     },
     "execution_count": 6,
     "metadata": {},
     "output_type": "execute_result"
    }
   ],
   "source": [
    "'''Checking for amount of times the value has been drawn'''\n",
    "\n",
    "digit.label.value_counts().sort_index(ascending=True)"
   ]
  },
  {
   "cell_type": "code",
   "execution_count": 7,
   "metadata": {
    "colab": {
     "base_uri": "https://localhost:8080/",
     "height": 279
    },
    "id": "_eS3p3c-i35w",
    "outputId": "078ca132-fa22-42a6-c928-66c2efbcb803"
   },
   "outputs": [
    {
     "data": {
      "image/png": "[encoded data removed]",
      "text/plain": [
       "<Figure size 432x288 with 1 Axes>"
      ]
     },
     "metadata": {
      "needs_background": "light"
     },
     "output_type": "display_data"
    }
   ],
   "source": [
    "#representing the counts on a bar plot\n",
    "sns.countplot(digit[\"label\"])\n",
    "plt.show()"
   ]
  },
  {
   "cell_type": "code",
   "execution_count": 8,
   "metadata": {
    "colab": {
     "base_uri": "https://localhost:8080/",
     "height": 394
    },
    "id": "12godpV6i35w",
    "outputId": "392b79fa-3c7c-4421-fbe2-37e10d26e0a8"
   },
   "outputs": [
    {
     "data": {
      "text/html": [
       "<div>\n",
       "<style scoped>\n",
       "    .dataframe tbody tr th:only-of-type {\n",
       "        vertical-align: middle;\n",
       "    }\n",
       "\n",
       "    .dataframe tbody tr th {\n",
       "        vertical-align: top;\n",
       "    }\n",
       "\n",
       "    .dataframe thead th {\n",
       "        text-align: right;\n",
       "    }\n",
       "</style>\n",
       "<table border=\"1\" class=\"dataframe\">\n",
       "  <thead>\n",
       "    <tr style=\"text-align: right;\">\n",
       "      <th></th>\n",
       "      <th>label</th>\n",
       "      <th>pixel0</th>\n",
       "      <th>pixel1</th>\n",
       "      <th>pixel2</th>\n",
       "      <th>pixel3</th>\n",
       "      <th>pixel4</th>\n",
       "      <th>pixel5</th>\n",
       "      <th>pixel6</th>\n",
       "      <th>pixel7</th>\n",
       "      <th>pixel8</th>\n",
       "      <th>...</th>\n",
       "      <th>pixel774</th>\n",
       "      <th>pixel775</th>\n",
       "      <th>pixel776</th>\n",
       "      <th>pixel777</th>\n",
       "      <th>pixel778</th>\n",
       "      <th>pixel779</th>\n",
       "      <th>pixel780</th>\n",
       "      <th>pixel781</th>\n",
       "      <th>pixel782</th>\n",
       "      <th>pixel783</th>\n",
       "    </tr>\n",
       "  </thead>\n",
       "  <tbody>\n",
       "    <tr>\n",
       "      <th>count</th>\n",
       "      <td>42000.000000</td>\n",
       "      <td>42000.0</td>\n",
       "      <td>42000.0</td>\n",
       "      <td>42000.0</td>\n",
       "      <td>42000.0</td>\n",
       "      <td>42000.0</td>\n",
       "      <td>42000.0</td>\n",
       "      <td>42000.0</td>\n",
       "      <td>42000.0</td>\n",
       "      <td>42000.0</td>\n",
       "      <td>...</td>\n",
       "      <td>42000.000000</td>\n",
       "      <td>42000.000000</td>\n",
       "      <td>42000.000000</td>\n",
       "      <td>42000.00000</td>\n",
       "      <td>42000.000000</td>\n",
       "      <td>42000.000000</td>\n",
       "      <td>42000.0</td>\n",
       "      <td>42000.0</td>\n",
       "      <td>42000.0</td>\n",
       "      <td>42000.0</td>\n",
       "    </tr>\n",
       "    <tr>\n",
       "      <th>mean</th>\n",
       "      <td>4.456643</td>\n",
       "      <td>0.0</td>\n",
       "      <td>0.0</td>\n",
       "      <td>0.0</td>\n",
       "      <td>0.0</td>\n",
       "      <td>0.0</td>\n",
       "      <td>0.0</td>\n",
       "      <td>0.0</td>\n",
       "      <td>0.0</td>\n",
       "      <td>0.0</td>\n",
       "      <td>...</td>\n",
       "      <td>0.219286</td>\n",
       "      <td>0.117095</td>\n",
       "      <td>0.059024</td>\n",
       "      <td>0.02019</td>\n",
       "      <td>0.017238</td>\n",
       "      <td>0.002857</td>\n",
       "      <td>0.0</td>\n",
       "      <td>0.0</td>\n",
       "      <td>0.0</td>\n",
       "      <td>0.0</td>\n",
       "    </tr>\n",
       "    <tr>\n",
       "      <th>std</th>\n",
       "      <td>2.887730</td>\n",
       "      <td>0.0</td>\n",
       "      <td>0.0</td>\n",
       "      <td>0.0</td>\n",
       "      <td>0.0</td>\n",
       "      <td>0.0</td>\n",
       "      <td>0.0</td>\n",
       "      <td>0.0</td>\n",
       "      <td>0.0</td>\n",
       "      <td>0.0</td>\n",
       "      <td>...</td>\n",
       "      <td>6.312890</td>\n",
       "      <td>4.633819</td>\n",
       "      <td>3.274488</td>\n",
       "      <td>1.75987</td>\n",
       "      <td>1.894498</td>\n",
       "      <td>0.414264</td>\n",
       "      <td>0.0</td>\n",
       "      <td>0.0</td>\n",
       "      <td>0.0</td>\n",
       "      <td>0.0</td>\n",
       "    </tr>\n",
       "    <tr>\n",
       "      <th>min</th>\n",
       "      <td>0.000000</td>\n",
       "      <td>0.0</td>\n",
       "      <td>0.0</td>\n",
       "      <td>0.0</td>\n",
       "      <td>0.0</td>\n",
       "      <td>0.0</td>\n",
       "      <td>0.0</td>\n",
       "      <td>0.0</td>\n",
       "      <td>0.0</td>\n",
       "      <td>0.0</td>\n",
       "      <td>...</td>\n",
       "      <td>0.000000</td>\n",
       "      <td>0.000000</td>\n",
       "      <td>0.000000</td>\n",
       "      <td>0.00000</td>\n",
       "      <td>0.000000</td>\n",
       "      <td>0.000000</td>\n",
       "      <td>0.0</td>\n",
       "      <td>0.0</td>\n",
       "      <td>0.0</td>\n",
       "      <td>0.0</td>\n",
       "    </tr>\n",
       "    <tr>\n",
       "      <th>25%</th>\n",
       "      <td>2.000000</td>\n",
       "      <td>0.0</td>\n",
       "      <td>0.0</td>\n",
       "      <td>0.0</td>\n",
       "      <td>0.0</td>\n",
       "      <td>0.0</td>\n",
       "      <td>0.0</td>\n",
       "      <td>0.0</td>\n",
       "      <td>0.0</td>\n",
       "      <td>0.0</td>\n",
       "      <td>...</td>\n",
       "      <td>0.000000</td>\n",
       "      <td>0.000000</td>\n",
       "      <td>0.000000</td>\n",
       "      <td>0.00000</td>\n",
       "      <td>0.000000</td>\n",
       "      <td>0.000000</td>\n",
       "      <td>0.0</td>\n",
       "      <td>0.0</td>\n",
       "      <td>0.0</td>\n",
       "      <td>0.0</td>\n",
       "    </tr>\n",
       "    <tr>\n",
       "      <th>50%</th>\n",
       "      <td>4.000000</td>\n",
       "      <td>0.0</td>\n",
       "      <td>0.0</td>\n",
       "      <td>0.0</td>\n",
       "      <td>0.0</td>\n",
       "      <td>0.0</td>\n",
       "      <td>0.0</td>\n",
       "      <td>0.0</td>\n",
       "      <td>0.0</td>\n",
       "      <td>0.0</td>\n",
       "      <td>...</td>\n",
       "      <td>0.000000</td>\n",
       "      <td>0.000000</td>\n",
       "      <td>0.000000</td>\n",
       "      <td>0.00000</td>\n",
       "      <td>0.000000</td>\n",
       "      <td>0.000000</td>\n",
       "      <td>0.0</td>\n",
       "      <td>0.0</td>\n",
       "      <td>0.0</td>\n",
       "      <td>0.0</td>\n",
       "    </tr>\n",
       "    <tr>\n",
       "      <th>75%</th>\n",
       "      <td>7.000000</td>\n",
       "      <td>0.0</td>\n",
       "      <td>0.0</td>\n",
       "      <td>0.0</td>\n",
       "      <td>0.0</td>\n",
       "      <td>0.0</td>\n",
       "      <td>0.0</td>\n",
       "      <td>0.0</td>\n",
       "      <td>0.0</td>\n",
       "      <td>0.0</td>\n",
       "      <td>...</td>\n",
       "      <td>0.000000</td>\n",
       "      <td>0.000000</td>\n",
       "      <td>0.000000</td>\n",
       "      <td>0.00000</td>\n",
       "      <td>0.000000</td>\n",
       "      <td>0.000000</td>\n",
       "      <td>0.0</td>\n",
       "      <td>0.0</td>\n",
       "      <td>0.0</td>\n",
       "      <td>0.0</td>\n",
       "    </tr>\n",
       "    <tr>\n",
       "      <th>max</th>\n",
       "      <td>9.000000</td>\n",
       "      <td>0.0</td>\n",
       "      <td>0.0</td>\n",
       "      <td>0.0</td>\n",
       "      <td>0.0</td>\n",
       "      <td>0.0</td>\n",
       "      <td>0.0</td>\n",
       "      <td>0.0</td>\n",
       "      <td>0.0</td>\n",
       "      <td>0.0</td>\n",
       "      <td>...</td>\n",
       "      <td>254.000000</td>\n",
       "      <td>254.000000</td>\n",
       "      <td>253.000000</td>\n",
       "      <td>253.00000</td>\n",
       "      <td>254.000000</td>\n",
       "      <td>62.000000</td>\n",
       "      <td>0.0</td>\n",
       "      <td>0.0</td>\n",
       "      <td>0.0</td>\n",
       "      <td>0.0</td>\n",
       "    </tr>\n",
       "  </tbody>\n",
       "</table>\n",
       "<p>8 rows × 785 columns</p>\n",
       "</div>"
      ],
      "text/plain": [
       "              label   pixel0   pixel1   pixel2   pixel3   pixel4   pixel5  \\\n",
       "count  42000.000000  42000.0  42000.0  42000.0  42000.0  42000.0  42000.0   \n",
       "mean       4.456643      0.0      0.0      0.0      0.0      0.0      0.0   \n",
       "std        2.887730      0.0      0.0      0.0      0.0      0.0      0.0   \n",
       "min        0.000000      0.0      0.0      0.0      0.0      0.0      0.0   \n",
       "25%        2.000000      0.0      0.0      0.0      0.0      0.0      0.0   \n",
       "50%        4.000000      0.0      0.0      0.0      0.0      0.0      0.0   \n",
       "75%        7.000000      0.0      0.0      0.0      0.0      0.0      0.0   \n",
       "max        9.000000      0.0      0.0      0.0      0.0      0.0      0.0   \n",
       "\n",
       "        pixel6   pixel7   pixel8  ...      pixel774      pixel775  \\\n",
       "count  42000.0  42000.0  42000.0  ...  42000.000000  42000.000000   \n",
       "mean       0.0      0.0      0.0  ...      0.219286      0.117095   \n",
       "std        0.0      0.0      0.0  ...      6.312890      4.633819   \n",
       "min        0.0      0.0      0.0  ...      0.000000      0.000000   \n",
       "25%        0.0      0.0      0.0  ...      0.000000      0.000000   \n",
       "50%        0.0      0.0      0.0  ...      0.000000      0.000000   \n",
       "75%        0.0      0.0      0.0  ...      0.000000      0.000000   \n",
       "max        0.0      0.0      0.0  ...    254.000000    254.000000   \n",
       "\n",
       "           pixel776     pixel777      pixel778      pixel779  pixel780  \\\n",
       "count  42000.000000  42000.00000  42000.000000  42000.000000   42000.0   \n",
       "mean       0.059024      0.02019      0.017238      0.002857       0.0   \n",
       "std        3.274488      1.75987      1.894498      0.414264       0.0   \n",
       "min        0.000000      0.00000      0.000000      0.000000       0.0   \n",
       "25%        0.000000      0.00000      0.000000      0.000000       0.0   \n",
       "50%        0.000000      0.00000      0.000000      0.000000       0.0   \n",
       "75%        0.000000      0.00000      0.000000      0.000000       0.0   \n",
       "max      253.000000    253.00000    254.000000     62.000000       0.0   \n",
       "\n",
       "       pixel781  pixel782  pixel783  \n",
       "count   42000.0   42000.0   42000.0  \n",
       "mean        0.0       0.0       0.0  \n",
       "std         0.0       0.0       0.0  \n",
       "min         0.0       0.0       0.0  \n",
       "25%         0.0       0.0       0.0  \n",
       "50%         0.0       0.0       0.0  \n",
       "75%         0.0       0.0       0.0  \n",
       "max         0.0       0.0       0.0  \n",
       "\n",
       "[8 rows x 785 columns]"
      ]
     },
     "execution_count": 8,
     "metadata": {},
     "output_type": "execute_result"
    }
   ],
   "source": [
    "digit.describe()"
   ]
  },
  {
   "cell_type": "markdown",
   "metadata": {
    "id": "x0_qwq8Oi35w"
   },
   "source": [
    "### Data Cleaning and Scaling"
   ]
  },
  {
   "cell_type": "code",
   "execution_count": 9,
   "metadata": {
    "colab": {
     "base_uri": "https://localhost:8080/"
    },
    "id": "zDc2vx3Ii35w",
    "outputId": "db59d454-1851-484d-f6f1-b20c158a083a"
   },
   "outputs": [
    {
     "data": {
      "text/plain": [
       "False"
      ]
     },
     "execution_count": 9,
     "metadata": {},
     "output_type": "execute_result"
    }
   ],
   "source": [
    "'''Checking for missing values in the train data set '''\n",
    "\n",
    "digit.isnull().sort_index(axis =0).values.any()"
   ]
  },
  {
   "cell_type": "markdown",
   "metadata": {
    "id": "CBYL8WeEi35x"
   },
   "source": [
    "\"False\" indicates that there are no null/missing values in the dataset. We have a clean dataset"
   ]
  },
  {
   "cell_type": "code",
   "execution_count": 10,
   "metadata": {
    "colab": {
     "base_uri": "https://localhost:8080/",
     "height": 488
    },
    "id": "dF1vBNbEi35x",
    "outputId": "eb76db88-4912-4fde-d467-fb0ba4ddfd3e"
   },
   "outputs": [
    {
     "data": {
      "text/html": [
       "<div>\n",
       "<style scoped>\n",
       "    .dataframe tbody tr th:only-of-type {\n",
       "        vertical-align: middle;\n",
       "    }\n",
       "\n",
       "    .dataframe tbody tr th {\n",
       "        vertical-align: top;\n",
       "    }\n",
       "\n",
       "    .dataframe thead th {\n",
       "        text-align: right;\n",
       "    }\n",
       "</style>\n",
       "<table border=\"1\" class=\"dataframe\">\n",
       "  <thead>\n",
       "    <tr style=\"text-align: right;\">\n",
       "      <th></th>\n",
       "      <th>pixel0</th>\n",
       "      <th>pixel1</th>\n",
       "      <th>pixel2</th>\n",
       "      <th>pixel3</th>\n",
       "      <th>pixel4</th>\n",
       "      <th>pixel5</th>\n",
       "      <th>pixel6</th>\n",
       "      <th>pixel7</th>\n",
       "      <th>pixel8</th>\n",
       "      <th>pixel9</th>\n",
       "      <th>...</th>\n",
       "      <th>pixel774</th>\n",
       "      <th>pixel775</th>\n",
       "      <th>pixel776</th>\n",
       "      <th>pixel777</th>\n",
       "      <th>pixel778</th>\n",
       "      <th>pixel779</th>\n",
       "      <th>pixel780</th>\n",
       "      <th>pixel781</th>\n",
       "      <th>pixel782</th>\n",
       "      <th>pixel783</th>\n",
       "    </tr>\n",
       "    <tr>\n",
       "      <th>label</th>\n",
       "      <th></th>\n",
       "      <th></th>\n",
       "      <th></th>\n",
       "      <th></th>\n",
       "      <th></th>\n",
       "      <th></th>\n",
       "      <th></th>\n",
       "      <th></th>\n",
       "      <th></th>\n",
       "      <th></th>\n",
       "      <th></th>\n",
       "      <th></th>\n",
       "      <th></th>\n",
       "      <th></th>\n",
       "      <th></th>\n",
       "      <th></th>\n",
       "      <th></th>\n",
       "      <th></th>\n",
       "      <th></th>\n",
       "      <th></th>\n",
       "      <th></th>\n",
       "    </tr>\n",
       "  </thead>\n",
       "  <tbody>\n",
       "    <tr>\n",
       "      <th>0</th>\n",
       "      <td>0.0</td>\n",
       "      <td>0.0</td>\n",
       "      <td>0.0</td>\n",
       "      <td>0.0</td>\n",
       "      <td>0.0</td>\n",
       "      <td>0.0</td>\n",
       "      <td>0.0</td>\n",
       "      <td>0.0</td>\n",
       "      <td>0.0</td>\n",
       "      <td>0.0</td>\n",
       "      <td>...</td>\n",
       "      <td>0.000000</td>\n",
       "      <td>0.000000</td>\n",
       "      <td>0.000000</td>\n",
       "      <td>0.000000</td>\n",
       "      <td>0.000000</td>\n",
       "      <td>0.000000</td>\n",
       "      <td>0.0</td>\n",
       "      <td>0.0</td>\n",
       "      <td>0.0</td>\n",
       "      <td>0.0</td>\n",
       "    </tr>\n",
       "    <tr>\n",
       "      <th>1</th>\n",
       "      <td>0.0</td>\n",
       "      <td>0.0</td>\n",
       "      <td>0.0</td>\n",
       "      <td>0.0</td>\n",
       "      <td>0.0</td>\n",
       "      <td>0.0</td>\n",
       "      <td>0.0</td>\n",
       "      <td>0.0</td>\n",
       "      <td>0.0</td>\n",
       "      <td>0.0</td>\n",
       "      <td>...</td>\n",
       "      <td>0.000000</td>\n",
       "      <td>0.000000</td>\n",
       "      <td>0.000000</td>\n",
       "      <td>0.000000</td>\n",
       "      <td>0.000000</td>\n",
       "      <td>0.000000</td>\n",
       "      <td>0.0</td>\n",
       "      <td>0.0</td>\n",
       "      <td>0.0</td>\n",
       "      <td>0.0</td>\n",
       "    </tr>\n",
       "    <tr>\n",
       "      <th>2</th>\n",
       "      <td>0.0</td>\n",
       "      <td>0.0</td>\n",
       "      <td>0.0</td>\n",
       "      <td>0.0</td>\n",
       "      <td>0.0</td>\n",
       "      <td>0.0</td>\n",
       "      <td>0.0</td>\n",
       "      <td>0.0</td>\n",
       "      <td>0.0</td>\n",
       "      <td>0.0</td>\n",
       "      <td>...</td>\n",
       "      <td>0.000000</td>\n",
       "      <td>0.000000</td>\n",
       "      <td>0.000000</td>\n",
       "      <td>0.000000</td>\n",
       "      <td>0.000000</td>\n",
       "      <td>0.000000</td>\n",
       "      <td>0.0</td>\n",
       "      <td>0.0</td>\n",
       "      <td>0.0</td>\n",
       "      <td>0.0</td>\n",
       "    </tr>\n",
       "    <tr>\n",
       "      <th>3</th>\n",
       "      <td>0.0</td>\n",
       "      <td>0.0</td>\n",
       "      <td>0.0</td>\n",
       "      <td>0.0</td>\n",
       "      <td>0.0</td>\n",
       "      <td>0.0</td>\n",
       "      <td>0.0</td>\n",
       "      <td>0.0</td>\n",
       "      <td>0.0</td>\n",
       "      <td>0.0</td>\n",
       "      <td>...</td>\n",
       "      <td>0.000000</td>\n",
       "      <td>0.000000</td>\n",
       "      <td>0.000000</td>\n",
       "      <td>0.000000</td>\n",
       "      <td>0.000000</td>\n",
       "      <td>0.000000</td>\n",
       "      <td>0.0</td>\n",
       "      <td>0.0</td>\n",
       "      <td>0.0</td>\n",
       "      <td>0.0</td>\n",
       "    </tr>\n",
       "    <tr>\n",
       "      <th>4</th>\n",
       "      <td>0.0</td>\n",
       "      <td>0.0</td>\n",
       "      <td>0.0</td>\n",
       "      <td>0.0</td>\n",
       "      <td>0.0</td>\n",
       "      <td>0.0</td>\n",
       "      <td>0.0</td>\n",
       "      <td>0.0</td>\n",
       "      <td>0.0</td>\n",
       "      <td>0.0</td>\n",
       "      <td>...</td>\n",
       "      <td>0.000000</td>\n",
       "      <td>0.000000</td>\n",
       "      <td>0.000000</td>\n",
       "      <td>0.000000</td>\n",
       "      <td>0.000000</td>\n",
       "      <td>0.000000</td>\n",
       "      <td>0.0</td>\n",
       "      <td>0.0</td>\n",
       "      <td>0.0</td>\n",
       "      <td>0.0</td>\n",
       "    </tr>\n",
       "    <tr>\n",
       "      <th>5</th>\n",
       "      <td>0.0</td>\n",
       "      <td>0.0</td>\n",
       "      <td>0.0</td>\n",
       "      <td>0.0</td>\n",
       "      <td>0.0</td>\n",
       "      <td>0.0</td>\n",
       "      <td>0.0</td>\n",
       "      <td>0.0</td>\n",
       "      <td>0.0</td>\n",
       "      <td>0.0</td>\n",
       "      <td>...</td>\n",
       "      <td>0.000000</td>\n",
       "      <td>0.000000</td>\n",
       "      <td>0.000000</td>\n",
       "      <td>0.000000</td>\n",
       "      <td>0.000000</td>\n",
       "      <td>0.000000</td>\n",
       "      <td>0.0</td>\n",
       "      <td>0.0</td>\n",
       "      <td>0.0</td>\n",
       "      <td>0.0</td>\n",
       "    </tr>\n",
       "    <tr>\n",
       "      <th>6</th>\n",
       "      <td>0.0</td>\n",
       "      <td>0.0</td>\n",
       "      <td>0.0</td>\n",
       "      <td>0.0</td>\n",
       "      <td>0.0</td>\n",
       "      <td>0.0</td>\n",
       "      <td>0.0</td>\n",
       "      <td>0.0</td>\n",
       "      <td>0.0</td>\n",
       "      <td>0.0</td>\n",
       "      <td>...</td>\n",
       "      <td>0.000000</td>\n",
       "      <td>0.000000</td>\n",
       "      <td>0.000000</td>\n",
       "      <td>0.000000</td>\n",
       "      <td>0.000000</td>\n",
       "      <td>0.000000</td>\n",
       "      <td>0.0</td>\n",
       "      <td>0.0</td>\n",
       "      <td>0.0</td>\n",
       "      <td>0.0</td>\n",
       "    </tr>\n",
       "    <tr>\n",
       "      <th>7</th>\n",
       "      <td>0.0</td>\n",
       "      <td>0.0</td>\n",
       "      <td>0.0</td>\n",
       "      <td>0.0</td>\n",
       "      <td>0.0</td>\n",
       "      <td>0.0</td>\n",
       "      <td>0.0</td>\n",
       "      <td>0.0</td>\n",
       "      <td>0.0</td>\n",
       "      <td>0.0</td>\n",
       "      <td>...</td>\n",
       "      <td>1.846626</td>\n",
       "      <td>0.939105</td>\n",
       "      <td>0.397182</td>\n",
       "      <td>0.086344</td>\n",
       "      <td>0.118155</td>\n",
       "      <td>0.027267</td>\n",
       "      <td>0.0</td>\n",
       "      <td>0.0</td>\n",
       "      <td>0.0</td>\n",
       "      <td>0.0</td>\n",
       "    </tr>\n",
       "    <tr>\n",
       "      <th>8</th>\n",
       "      <td>0.0</td>\n",
       "      <td>0.0</td>\n",
       "      <td>0.0</td>\n",
       "      <td>0.0</td>\n",
       "      <td>0.0</td>\n",
       "      <td>0.0</td>\n",
       "      <td>0.0</td>\n",
       "      <td>0.0</td>\n",
       "      <td>0.0</td>\n",
       "      <td>0.0</td>\n",
       "      <td>...</td>\n",
       "      <td>0.000000</td>\n",
       "      <td>0.000000</td>\n",
       "      <td>0.000000</td>\n",
       "      <td>0.000000</td>\n",
       "      <td>0.000000</td>\n",
       "      <td>0.000000</td>\n",
       "      <td>0.0</td>\n",
       "      <td>0.0</td>\n",
       "      <td>0.0</td>\n",
       "      <td>0.0</td>\n",
       "    </tr>\n",
       "    <tr>\n",
       "      <th>9</th>\n",
       "      <td>0.0</td>\n",
       "      <td>0.0</td>\n",
       "      <td>0.0</td>\n",
       "      <td>0.0</td>\n",
       "      <td>0.0</td>\n",
       "      <td>0.0</td>\n",
       "      <td>0.0</td>\n",
       "      <td>0.0</td>\n",
       "      <td>0.0</td>\n",
       "      <td>0.0</td>\n",
       "      <td>...</td>\n",
       "      <td>0.258596</td>\n",
       "      <td>0.187440</td>\n",
       "      <td>0.174546</td>\n",
       "      <td>0.111748</td>\n",
       "      <td>0.048711</td>\n",
       "      <td>0.000000</td>\n",
       "      <td>0.0</td>\n",
       "      <td>0.0</td>\n",
       "      <td>0.0</td>\n",
       "      <td>0.0</td>\n",
       "    </tr>\n",
       "  </tbody>\n",
       "</table>\n",
       "<p>10 rows × 784 columns</p>\n",
       "</div>"
      ],
      "text/plain": [
       "       pixel0  pixel1  pixel2  pixel3  pixel4  pixel5  pixel6  pixel7  pixel8  \\\n",
       "label                                                                           \n",
       "0         0.0     0.0     0.0     0.0     0.0     0.0     0.0     0.0     0.0   \n",
       "1         0.0     0.0     0.0     0.0     0.0     0.0     0.0     0.0     0.0   \n",
       "2         0.0     0.0     0.0     0.0     0.0     0.0     0.0     0.0     0.0   \n",
       "3         0.0     0.0     0.0     0.0     0.0     0.0     0.0     0.0     0.0   \n",
       "4         0.0     0.0     0.0     0.0     0.0     0.0     0.0     0.0     0.0   \n",
       "5         0.0     0.0     0.0     0.0     0.0     0.0     0.0     0.0     0.0   \n",
       "6         0.0     0.0     0.0     0.0     0.0     0.0     0.0     0.0     0.0   \n",
       "7         0.0     0.0     0.0     0.0     0.0     0.0     0.0     0.0     0.0   \n",
       "8         0.0     0.0     0.0     0.0     0.0     0.0     0.0     0.0     0.0   \n",
       "9         0.0     0.0     0.0     0.0     0.0     0.0     0.0     0.0     0.0   \n",
       "\n",
       "       pixel9  ...  pixel774  pixel775  pixel776  pixel777  pixel778  \\\n",
       "label          ...                                                     \n",
       "0         0.0  ...  0.000000  0.000000  0.000000  0.000000  0.000000   \n",
       "1         0.0  ...  0.000000  0.000000  0.000000  0.000000  0.000000   \n",
       "2         0.0  ...  0.000000  0.000000  0.000000  0.000000  0.000000   \n",
       "3         0.0  ...  0.000000  0.000000  0.000000  0.000000  0.000000   \n",
       "4         0.0  ...  0.000000  0.000000  0.000000  0.000000  0.000000   \n",
       "5         0.0  ...  0.000000  0.000000  0.000000  0.000000  0.000000   \n",
       "6         0.0  ...  0.000000  0.000000  0.000000  0.000000  0.000000   \n",
       "7         0.0  ...  1.846626  0.939105  0.397182  0.086344  0.118155   \n",
       "8         0.0  ...  0.000000  0.000000  0.000000  0.000000  0.000000   \n",
       "9         0.0  ...  0.258596  0.187440  0.174546  0.111748  0.048711   \n",
       "\n",
       "       pixel779  pixel780  pixel781  pixel782  pixel783  \n",
       "label                                                    \n",
       "0      0.000000       0.0       0.0       0.0       0.0  \n",
       "1      0.000000       0.0       0.0       0.0       0.0  \n",
       "2      0.000000       0.0       0.0       0.0       0.0  \n",
       "3      0.000000       0.0       0.0       0.0       0.0  \n",
       "4      0.000000       0.0       0.0       0.0       0.0  \n",
       "5      0.000000       0.0       0.0       0.0       0.0  \n",
       "6      0.000000       0.0       0.0       0.0       0.0  \n",
       "7      0.027267       0.0       0.0       0.0       0.0  \n",
       "8      0.000000       0.0       0.0       0.0       0.0  \n",
       "9      0.000000       0.0       0.0       0.0       0.0  \n",
       "\n",
       "[10 rows x 784 columns]"
      ]
     },
     "execution_count": 10,
     "metadata": {},
     "output_type": "execute_result"
    }
   ],
   "source": [
    "'''Checking for correlation between various labels by taking their means'''\n",
    "mean_digit = digit.groupby('label').mean()\n",
    "mean_digit.sort_index()"
   ]
  },
  {
   "cell_type": "code",
   "execution_count": 11,
   "metadata": {
    "colab": {
     "base_uri": "https://localhost:8080/",
     "height": 914
    },
    "id": "yabG9lVsi35x",
    "outputId": "ac121495-a55b-4bf5-ee2b-908849c6067d"
   },
   "outputs": [
    {
     "data": {
      "text/plain": [
       "<AxesSubplot:ylabel='label'>"
      ]
     },
     "execution_count": 11,
     "metadata": {},
     "output_type": "execute_result"
    },
    {
     "data": {
      "image/png": "[encoded data removed]",
      "text/plain": [
       "<Figure size 1440x1080 with 2 Axes>"
      ]
     },
     "metadata": {
      "needs_background": "light"
     },
     "output_type": "display_data"
    }
   ],
   "source": [
    "plt.figure(figsize=(20,15))\n",
    "sns.heatmap(mean_digit)"
   ]
  },
  {
   "cell_type": "code",
   "execution_count": 12,
   "metadata": {
    "colab": {
     "base_uri": "https://localhost:8080/"
    },
    "id": "po6Ovd8Vi35y",
    "outputId": "8af28454-331f-4646-990b-0f8f81503ef9"
   },
   "outputs": [
    {
     "name": "stdout",
     "output_type": "stream",
     "text": [
      "<class 'pandas.core.frame.DataFrame'>\n",
      "RangeIndex: 42000 entries, 0 to 41999\n",
      "Columns: 785 entries, label to pixel783\n",
      "dtypes: int64(785)\n",
      "memory usage: 251.5 MB\n"
     ]
    }
   ],
   "source": [
    "'''The whole dataset is of numerical datatype. There are NO categorical variables. There is no need to convert them\n",
    "categorical datatype'''\n",
    "digit.info()"
   ]
  },
  {
   "cell_type": "code",
   "execution_count": 13,
   "metadata": {
    "colab": {
     "base_uri": "https://localhost:8080/",
     "height": 300
    },
    "id": "Xyyj-Xcui35y",
    "outputId": "6b20087d-ab95-442f-ea95-98e0ec5bf482"
   },
   "outputs": [
    {
     "data": {
      "text/html": [
       "<div>\n",
       "<style scoped>\n",
       "    .dataframe tbody tr th:only-of-type {\n",
       "        vertical-align: middle;\n",
       "    }\n",
       "\n",
       "    .dataframe tbody tr th {\n",
       "        vertical-align: top;\n",
       "    }\n",
       "\n",
       "    .dataframe thead th {\n",
       "        text-align: right;\n",
       "    }\n",
       "</style>\n",
       "<table border=\"1\" class=\"dataframe\">\n",
       "  <thead>\n",
       "    <tr style=\"text-align: right;\">\n",
       "      <th></th>\n",
       "      <th>label</th>\n",
       "      <th>pixel0</th>\n",
       "      <th>pixel1</th>\n",
       "      <th>pixel2</th>\n",
       "      <th>pixel3</th>\n",
       "      <th>pixel4</th>\n",
       "      <th>pixel5</th>\n",
       "      <th>pixel6</th>\n",
       "      <th>pixel7</th>\n",
       "      <th>pixel8</th>\n",
       "      <th>...</th>\n",
       "      <th>pixel774</th>\n",
       "      <th>pixel775</th>\n",
       "      <th>pixel776</th>\n",
       "      <th>pixel777</th>\n",
       "      <th>pixel778</th>\n",
       "      <th>pixel779</th>\n",
       "      <th>pixel780</th>\n",
       "      <th>pixel781</th>\n",
       "      <th>pixel782</th>\n",
       "      <th>pixel783</th>\n",
       "    </tr>\n",
       "  </thead>\n",
       "  <tbody>\n",
       "    <tr>\n",
       "      <th>0</th>\n",
       "      <td>1</td>\n",
       "      <td>0</td>\n",
       "      <td>0</td>\n",
       "      <td>0</td>\n",
       "      <td>0</td>\n",
       "      <td>0</td>\n",
       "      <td>0</td>\n",
       "      <td>0</td>\n",
       "      <td>0</td>\n",
       "      <td>0</td>\n",
       "      <td>...</td>\n",
       "      <td>0</td>\n",
       "      <td>0</td>\n",
       "      <td>0</td>\n",
       "      <td>0</td>\n",
       "      <td>0</td>\n",
       "      <td>0</td>\n",
       "      <td>0</td>\n",
       "      <td>0</td>\n",
       "      <td>0</td>\n",
       "      <td>0</td>\n",
       "    </tr>\n",
       "    <tr>\n",
       "      <th>1</th>\n",
       "      <td>0</td>\n",
       "      <td>0</td>\n",
       "      <td>0</td>\n",
       "      <td>0</td>\n",
       "      <td>0</td>\n",
       "      <td>0</td>\n",
       "      <td>0</td>\n",
       "      <td>0</td>\n",
       "      <td>0</td>\n",
       "      <td>0</td>\n",
       "      <td>...</td>\n",
       "      <td>0</td>\n",
       "      <td>0</td>\n",
       "      <td>0</td>\n",
       "      <td>0</td>\n",
       "      <td>0</td>\n",
       "      <td>0</td>\n",
       "      <td>0</td>\n",
       "      <td>0</td>\n",
       "      <td>0</td>\n",
       "      <td>0</td>\n",
       "    </tr>\n",
       "    <tr>\n",
       "      <th>2</th>\n",
       "      <td>1</td>\n",
       "      <td>0</td>\n",
       "      <td>0</td>\n",
       "      <td>0</td>\n",
       "      <td>0</td>\n",
       "      <td>0</td>\n",
       "      <td>0</td>\n",
       "      <td>0</td>\n",
       "      <td>0</td>\n",
       "      <td>0</td>\n",
       "      <td>...</td>\n",
       "      <td>0</td>\n",
       "      <td>0</td>\n",
       "      <td>0</td>\n",
       "      <td>0</td>\n",
       "      <td>0</td>\n",
       "      <td>0</td>\n",
       "      <td>0</td>\n",
       "      <td>0</td>\n",
       "      <td>0</td>\n",
       "      <td>0</td>\n",
       "    </tr>\n",
       "    <tr>\n",
       "      <th>3</th>\n",
       "      <td>4</td>\n",
       "      <td>0</td>\n",
       "      <td>0</td>\n",
       "      <td>0</td>\n",
       "      <td>0</td>\n",
       "      <td>0</td>\n",
       "      <td>0</td>\n",
       "      <td>0</td>\n",
       "      <td>0</td>\n",
       "      <td>0</td>\n",
       "      <td>...</td>\n",
       "      <td>0</td>\n",
       "      <td>0</td>\n",
       "      <td>0</td>\n",
       "      <td>0</td>\n",
       "      <td>0</td>\n",
       "      <td>0</td>\n",
       "      <td>0</td>\n",
       "      <td>0</td>\n",
       "      <td>0</td>\n",
       "      <td>0</td>\n",
       "    </tr>\n",
       "    <tr>\n",
       "      <th>4</th>\n",
       "      <td>0</td>\n",
       "      <td>0</td>\n",
       "      <td>0</td>\n",
       "      <td>0</td>\n",
       "      <td>0</td>\n",
       "      <td>0</td>\n",
       "      <td>0</td>\n",
       "      <td>0</td>\n",
       "      <td>0</td>\n",
       "      <td>0</td>\n",
       "      <td>...</td>\n",
       "      <td>0</td>\n",
       "      <td>0</td>\n",
       "      <td>0</td>\n",
       "      <td>0</td>\n",
       "      <td>0</td>\n",
       "      <td>0</td>\n",
       "      <td>0</td>\n",
       "      <td>0</td>\n",
       "      <td>0</td>\n",
       "      <td>0</td>\n",
       "    </tr>\n",
       "  </tbody>\n",
       "</table>\n",
       "<p>5 rows × 785 columns</p>\n",
       "</div>"
      ],
      "text/plain": [
       "   label  pixel0  pixel1  pixel2  pixel3  pixel4  pixel5  pixel6  pixel7  \\\n",
       "0      1       0       0       0       0       0       0       0       0   \n",
       "1      0       0       0       0       0       0       0       0       0   \n",
       "2      1       0       0       0       0       0       0       0       0   \n",
       "3      4       0       0       0       0       0       0       0       0   \n",
       "4      0       0       0       0       0       0       0       0       0   \n",
       "\n",
       "   pixel8  ...  pixel774  pixel775  pixel776  pixel777  pixel778  pixel779  \\\n",
       "0       0  ...         0         0         0         0         0         0   \n",
       "1       0  ...         0         0         0         0         0         0   \n",
       "2       0  ...         0         0         0         0         0         0   \n",
       "3       0  ...         0         0         0         0         0         0   \n",
       "4       0  ...         0         0         0         0         0         0   \n",
       "\n",
       "   pixel780  pixel781  pixel782  pixel783  \n",
       "0         0         0         0         0  \n",
       "1         0         0         0         0  \n",
       "2         0         0         0         0  \n",
       "3         0         0         0         0  \n",
       "4         0         0         0         0  \n",
       "\n",
       "[5 rows x 785 columns]"
      ]
     },
     "execution_count": 13,
     "metadata": {},
     "output_type": "execute_result"
    }
   ],
   "source": [
    "#digit = digit.sort_values('label')\n",
    "digit.head()"
   ]
  },
  {
   "cell_type": "code",
   "execution_count": 14,
   "metadata": {
    "colab": {
     "base_uri": "https://localhost:8080/",
     "height": 283
    },
    "id": "GM64AgD9i35y",
    "outputId": "8c37b764-cfbb-441b-8abf-933f2adb6a25"
   },
   "outputs": [
    {
     "name": "stdout",
     "output_type": "stream",
     "text": [
      "Digit Label: 4\n"
     ]
    },
    {
     "data": {
      "image/png": "[encoded data removed]",
      "text/plain": [
       "<Figure size 432x288 with 2 Axes>"
      ]
     },
     "metadata": {
      "needs_background": "light"
     },
     "output_type": "display_data"
    }
   ],
   "source": [
    "'''Reading one of the digits'''\n",
    "\n",
    "digit_arr = digit.loc[3, \"pixel0\":]\n",
    "arr = np.array(digit_arr) \n",
    "\n",
    "image_arr = np.reshape(arr, (28,28))\n",
    "\n",
    "digit_image = plt.imshow(image_arr, cmap=plt.cm.binary)\n",
    "plt.colorbar(digit_image)\n",
    "print(\"Digit Label: {}\".format(digit.loc[3, \"label\"]))\n",
    "\n",
    "\n",
    "\n"
   ]
  },
  {
   "cell_type": "markdown",
   "metadata": {
    "id": "byLzS9hei35z"
   },
   "source": [
    "**Few Conclusions based on EDA:**\n",
    "- No need of any outlier treatment as we have to consider all the values. All these values contribute to the construction of a pixelated image.\n",
    "- No need to use any dummy variables or convert them to categorical data type as the whole data set is of numerical or integer data type. \n",
    "- Scaling and Normalization can be performed. "
   ]
  },
  {
   "cell_type": "code",
   "execution_count": 15,
   "metadata": {
    "id": "ZVg7h3Uhi35z"
   },
   "outputs": [],
   "source": [
    "'''Spliting the label column from the dataset'''\n",
    "X = digit.drop(\"label\", axis = 1)\n",
    "y = digit['label']"
   ]
  },
  {
   "cell_type": "markdown",
   "metadata": {
    "id": "T2cAjwWli35z"
   },
   "source": [
    "### Train-Valid split"
   ]
  },
  {
   "cell_type": "code",
   "execution_count": 16,
   "metadata": {
    "id": "Q1wfOSAii35z"
   },
   "outputs": [],
   "source": [
    "'''Spliting the dataset into Train and Valid. Alloting 30% of the data to validation data set'''\n",
    "X_train, X_valid, y_train, y_valid = train_test_split(X, y, stratify = y, test_size = 0.2, random_state = 101)"
   ]
  },
  {
   "cell_type": "code",
   "execution_count": 17,
   "metadata": {
    "colab": {
     "base_uri": "https://localhost:8080/",
     "height": 0
    },
    "id": "PQb6K9E2i35z",
    "outputId": "b3d404f7-ab53-4092-9803-057fd216a0f6"
   },
   "outputs": [
    {
     "data": {
      "image/png": "[encoded data removed]",
      "text/plain": [
       "<Figure size 1008x864 with 30 Axes>"
      ]
     },
     "metadata": {},
     "output_type": "display_data"
    }
   ],
   "source": [
    "'''Plotting some digits from train dataset'''\n",
    "\n",
    "plt.figure(figsize=(14,12))\n",
    "for digit_num in range(0,30):\n",
    "    plt.subplot(7,10,digit_num+1)\n",
    "    grid_data = X_train.iloc[digit_num].values.reshape(28,28)  # reshape from 1d to 2d pixel array\n",
    "    plt.imshow(grid_data, interpolation = \"none\", cmap = \"afmhot\")\n",
    "    plt.xticks([])\n",
    "    plt.yticks([])\n",
    "plt.tight_layout()"
   ]
  },
  {
   "cell_type": "code",
   "execution_count": 18,
   "metadata": {
    "colab": {
     "base_uri": "https://localhost:8080/"
    },
    "id": "vRJ1fTTTi350",
    "outputId": "62132910-ec03-45be-88aa-664932930d89"
   },
   "outputs": [
    {
     "name": "stdout",
     "output_type": "stream",
     "text": [
      "Train_pixels =  (33600, 784)\n",
      "Train_o_label =  (33600,)\n",
      "Valid_pixels =  (8400, 784)\n",
      "Valid_o_label =  (8400,)\n",
      "\n"
     ]
    }
   ],
   "source": [
    "'''Dimensions of Train and Validation datasets'''\n",
    "print(\"Train_pixels = \", format(X_train.shape) + \"\\n\"\n",
    "     \"Train_o_label = \", format(y_train.shape) + \"\\n\"\n",
    "     \"Valid_pixels = \", format(X_valid.shape) + \"\\n\"\n",
    "     \"Valid_o_label = \", format(y_valid.shape) + \"\\n\")"
   ]
  },
  {
   "cell_type": "markdown",
   "metadata": {
    "id": "VmwyoRffi350"
   },
   "source": [
    "## Feature Scaling, PCA decomposition and Model Building"
   ]
  },
  {
   "cell_type": "markdown",
   "metadata": {
    "id": "vd_sXnHBi350"
   },
   "source": [
    "Since we have a high number of dimensions, it makes sense to reduce remove any dimensions/features which cause a high amount of redundancy and focus on the dimensions which are actually required to predict the output. Before applying PCA, it is necessary we standardize both the training and validation datasets."
   ]
  },
  {
   "cell_type": "markdown",
   "metadata": {
    "id": "DONKdV93i350"
   },
   "source": [
    "### Min-Max Scaling on Train and Validation datasets"
   ]
  },
  {
   "cell_type": "code",
   "execution_count": 19,
   "metadata": {
    "id": "QunRVyTui350"
   },
   "outputs": [],
   "source": [
    "'''Before applying PCA'''\n",
    "\n",
    "from sklearn.preprocessing import MinMaxScaler\n",
    "#Scaling data\n",
    "scale = MinMaxScaler()\n",
    "\n",
    "# Scaling train data-set\n",
    "X_train_scaled = scale.fit_transform(X_train)\n",
    "\n",
    "\n",
    "# Scaling validation data-set\n",
    "X_valid_scaled = scale.fit_transform(X_valid)"
   ]
  },
  {
   "cell_type": "markdown",
   "metadata": {
    "id": "4wmtQBsqi350"
   },
   "source": [
    "### PCA Decomposition"
   ]
  },
  {
   "cell_type": "markdown",
   "metadata": {},
   "source": [
    "Principal component analysis is linear dimensionality reduction using single value decomposition of data to lower the number of dimensions. Choose the n_components parameter of PCA which gives higher accuracy score for the dataset and remove the dimensions which cause high redundancy accordingly to focus on dimensions which are actually required"
   ]
  },
  {
   "cell_type": "code",
   "execution_count": null,
   "metadata": {
    "id": "rRq-Mwqti351"
   },
   "outputs": [],
   "source": [
    "'''function to run PCA and SVC with different kernel types'''\n",
    "from sklearn.decomposition import PCA\n",
    "# pca = decomposition.PCA()\n",
    "def n_components_accuracy(n,X_train, y_train, X_valid, y_valid, k_type):\n",
    "    pca = PCA(n_components = n)\n",
    "    print(\"n_components = \", format(n))\n",
    "    pca.fit(X_train)\n",
    "    pca_X_train = pca.transform(X_train)\n",
    "    pca_X_val = pca.transform(X_valid)\n",
    "    \n",
    "    svc_applied = SVC(kernel = k_type)\n",
    "    svc_applied.fit(pca_X_train,y_train)\n",
    "    svc_predict_label = svc_applied.predict(pca_X_val)\n",
    "    accuracy_svc = metrics.accuracy_score(y_valid,svc_predict_label)\n",
    "    print(\"Accuracy = \", format(accuracy_svc))\n",
    "    return accuracy_svc\n",
    "\n",
    "# pca = decomposition.PCA()\n",
    "# pca.n_components = 2\n",
    "# pca_data_train = pca.fit_transform(X_train)\n",
    "# pca_data_valid = pca.fit_transform(X_valid)"
   ]
  },
  {
   "cell_type": "code",
   "execution_count": 21,
   "metadata": {
    "id": "Vg5KN5zbi351"
   },
   "outputs": [],
   "source": [
    "'''we typically want the 85-95% of the data explaining the variance. So we check for explaination of variance \n",
    "when n_components are from .85 to .95'''\n",
    "\n",
    "n_component_list = np.linspace(0.85,0.95,num=10)\n",
    "accuracy = []\n",
    "def pca_svc(n_component_list,kernel_name):\n",
    "    print(\"Running SVC with kernel type = \", format(kernel_name))\n",
    "    for n in n_component_list:\n",
    "        acc= n_components_accuracy(n,X_train_scaled, y_train, X_valid_scaled, y_valid, kernel_name)\n",
    "        accuracy.append(acc)\n",
    "    \n",
    "\n"
   ]
  },
  {
   "cell_type": "code",
   "execution_count": 22,
   "metadata": {
    "id": "UQmjvtaxi351"
   },
   "outputs": [
    {
     "name": "stdout",
     "output_type": "stream",
     "text": [
      "Running SVC with kernel type =  linear\n",
      "n_components =  0.85\n",
      "Accuracy =  0.9332142857142857\n",
      "n_components =  0.861111111111111\n",
      "Accuracy =  0.934404761904762\n",
      "n_components =  0.8722222222222222\n",
      "Accuracy =  0.9353571428571429\n",
      "n_components =  0.8833333333333333\n",
      "Accuracy =  0.9365476190476191\n",
      "n_components =  0.8944444444444444\n",
      "Accuracy =  0.9371428571428572\n",
      "n_components =  0.9055555555555556\n",
      "Accuracy =  0.9357142857142857\n",
      "n_components =  0.9166666666666666\n",
      "Accuracy =  0.9372619047619047\n",
      "n_components =  0.9277777777777777\n",
      "Accuracy =  0.9371428571428572\n",
      "n_components =  0.9388888888888889\n",
      "Accuracy =  0.9375\n",
      "n_components =  0.95\n",
      "Accuracy =  0.9348809523809524\n"
     ]
    }
   ],
   "source": [
    "pca_svc(n_component_list,\"linear\")"
   ]
  },
  {
   "cell_type": "code",
   "execution_count": 23,
   "metadata": {
    "id": "es7jDpXQi351"
   },
   "outputs": [
    {
     "name": "stdout",
     "output_type": "stream",
     "text": [
      "Running SVC with kernel type =  rbf\n",
      "n_components =  0.85\n",
      "Accuracy =  0.9811904761904762\n",
      "n_components =  0.861111111111111\n",
      "Accuracy =  0.9814285714285714\n",
      "n_components =  0.8722222222222222\n",
      "Accuracy =  0.9816666666666667\n",
      "n_components =  0.8833333333333333\n",
      "Accuracy =  0.9811904761904762\n",
      "n_components =  0.8944444444444444\n",
      "Accuracy =  0.9811904761904762\n",
      "n_components =  0.9055555555555556\n",
      "Accuracy =  0.9808333333333333\n",
      "n_components =  0.9166666666666666\n",
      "Accuracy =  0.9809523809523809\n",
      "n_components =  0.9277777777777777\n",
      "Accuracy =  0.9810714285714286\n",
      "n_components =  0.9388888888888889\n",
      "Accuracy =  0.9811904761904762\n",
      "n_components =  0.95\n",
      "Accuracy =  0.9809523809523809\n"
     ]
    }
   ],
   "source": [
    "del accuracy\n",
    "accuracy = []\n",
    "pca_svc(n_component_list,\"rbf\")"
   ]
  },
  {
   "cell_type": "code",
   "execution_count": 24,
   "metadata": {
    "id": "x9gEBAQ_i351"
   },
   "outputs": [
    {
     "data": {
      "image/png": "[encoded data removed]",
      "text/plain": [
       "<Figure size 432x288 with 1 Axes>"
      ]
     },
     "metadata": {
      "needs_background": "light"
     },
     "output_type": "display_data"
    }
   ],
   "source": [
    "plt.figure()\n",
    "plt.plot(n_component_list,np.array(accuracy),label='Accuracy vs % variance explained')\n",
    "plt.legend()\n",
    "plt.show()"
   ]
  },
  {
   "cell_type": "markdown",
   "metadata": {
    "id": "D501V0H_i352"
   },
   "source": [
    "From the above we can see that the accuracy peaked around 0.87. So, we are considering n_components for PCA to be 0.87"
   ]
  },
  {
   "cell_type": "markdown",
   "metadata": {
    "id": "ei7W3msdi352"
   },
   "source": [
    "With n_components as 0.87, the RBF model gives the highest accuracy - we will proceed with this model.\n"
   ]
  },
  {
   "cell_type": "markdown",
   "metadata": {
    "id": "-pyqKnfii352"
   },
   "source": [
    "### Optimising hyperparameter (Using Gridsearch)"
   ]
  },
  {
   "cell_type": "code",
   "execution_count": 31,
   "metadata": {
    "id": "RwtdnMH2i352",
    "outputId": "624b50b2-337b-416c-db07-4f0f2247d14c"
   },
   "outputs": [
    {
     "name": "stdout",
     "output_type": "stream",
     "text": [
      "Fitting 4 folds for each of 9 candidates, totalling 36 fits\n"
     ]
    },
    {
     "data": {
      "text/plain": [
       "GridSearchCV(cv=4, estimator=SVC(), n_jobs=-1,\n",
       "             param_grid=[{'C': [1, 10, 20], 'gamma': [0.01, 0.001, 0.0001]}],\n",
       "             return_train_score=True, scoring='accuracy', verbose=1)"
      ]
     },
     "execution_count": 31,
     "metadata": {},
     "output_type": "execute_result"
    }
   ],
   "source": [
    "# #Creating a KFold object with 5 splits \n",
    "# folds = KFold(n_splits = 5, shuffle = True, random_state = 101)\n",
    "\n",
    "# #Setting the parameters for cross-validation\n",
    "# hyper_params = [ {'gamma': [1e-2, 1e-3, 1e-4],\n",
    "#                     'C': [1, 10, 20]}]\n",
    "\n",
    "\n",
    "# #Specifying kernel to be used for model building\n",
    "# model = SVC(kernel=\"rbf\")\n",
    "\n",
    "# #Setting up GridSearchCV\n",
    "# model_cv = GridSearchCV(estimator = model, \n",
    "#                        param_grid = hyper_params, \n",
    "#                        scoring= 'accuracy', \n",
    "#                        cv = 4,\n",
    "#                        n_jobs=-1,\n",
    "#                        verbose = 1,\n",
    "#                        return_train_score=True)      \n",
    "\n",
    "# #Fitting the model\n",
    "# model_cv.fit(X_train_scaled, y_train)"
   ]
  },
  {
   "cell_type": "code",
   "execution_count": 32,
   "metadata": {
    "id": "RStOaSboi352"
   },
   "outputs": [
    {
     "data": {
      "text/html": [
       "<div>\n",
       "<style scoped>\n",
       "    .dataframe tbody tr th:only-of-type {\n",
       "        vertical-align: middle;\n",
       "    }\n",
       "\n",
       "    .dataframe tbody tr th {\n",
       "        vertical-align: top;\n",
       "    }\n",
       "\n",
       "    .dataframe thead th {\n",
       "        text-align: right;\n",
       "    }\n",
       "</style>\n",
       "<table border=\"1\" class=\"dataframe\">\n",
       "  <thead>\n",
       "    <tr style=\"text-align: right;\">\n",
       "      <th></th>\n",
       "      <th>mean_fit_time</th>\n",
       "      <th>std_fit_time</th>\n",
       "      <th>mean_score_time</th>\n",
       "      <th>std_score_time</th>\n",
       "      <th>param_C</th>\n",
       "      <th>param_gamma</th>\n",
       "      <th>params</th>\n",
       "      <th>split0_test_score</th>\n",
       "      <th>split1_test_score</th>\n",
       "      <th>split2_test_score</th>\n",
       "      <th>split3_test_score</th>\n",
       "      <th>mean_test_score</th>\n",
       "      <th>std_test_score</th>\n",
       "      <th>rank_test_score</th>\n",
       "      <th>split0_train_score</th>\n",
       "      <th>split1_train_score</th>\n",
       "      <th>split2_train_score</th>\n",
       "      <th>split3_train_score</th>\n",
       "      <th>mean_train_score</th>\n",
       "      <th>std_train_score</th>\n",
       "    </tr>\n",
       "  </thead>\n",
       "  <tbody>\n",
       "    <tr>\n",
       "      <th>0</th>\n",
       "      <td>188.763210</td>\n",
       "      <td>2.122584</td>\n",
       "      <td>107.841897</td>\n",
       "      <td>2.962313</td>\n",
       "      <td>1</td>\n",
       "      <td>0.01</td>\n",
       "      <td>{'C': 1, 'gamma': 0.01}</td>\n",
       "      <td>0.969524</td>\n",
       "      <td>0.966786</td>\n",
       "      <td>0.971310</td>\n",
       "      <td>0.965357</td>\n",
       "      <td>0.968244</td>\n",
       "      <td>0.002318</td>\n",
       "      <td>3</td>\n",
       "      <td>0.982738</td>\n",
       "      <td>0.983175</td>\n",
       "      <td>0.983056</td>\n",
       "      <td>0.983016</td>\n",
       "      <td>0.982996</td>\n",
       "      <td>0.000160</td>\n",
       "    </tr>\n",
       "    <tr>\n",
       "      <th>1</th>\n",
       "      <td>337.558379</td>\n",
       "      <td>2.436431</td>\n",
       "      <td>144.662939</td>\n",
       "      <td>2.490811</td>\n",
       "      <td>1</td>\n",
       "      <td>0.001</td>\n",
       "      <td>{'C': 1, 'gamma': 0.001}</td>\n",
       "      <td>0.929405</td>\n",
       "      <td>0.919286</td>\n",
       "      <td>0.932143</td>\n",
       "      <td>0.926071</td>\n",
       "      <td>0.926726</td>\n",
       "      <td>0.004804</td>\n",
       "      <td>7</td>\n",
       "      <td>0.931151</td>\n",
       "      <td>0.933651</td>\n",
       "      <td>0.931389</td>\n",
       "      <td>0.932659</td>\n",
       "      <td>0.932212</td>\n",
       "      <td>0.001009</td>\n",
       "    </tr>\n",
       "    <tr>\n",
       "      <th>2</th>\n",
       "      <td>862.029877</td>\n",
       "      <td>2.948528</td>\n",
       "      <td>282.529215</td>\n",
       "      <td>7.055029</td>\n",
       "      <td>1</td>\n",
       "      <td>0.0001</td>\n",
       "      <td>{'C': 1, 'gamma': 0.0001}</td>\n",
       "      <td>0.888333</td>\n",
       "      <td>0.880119</td>\n",
       "      <td>0.889405</td>\n",
       "      <td>0.890357</td>\n",
       "      <td>0.887054</td>\n",
       "      <td>0.004067</td>\n",
       "      <td>9</td>\n",
       "      <td>0.888373</td>\n",
       "      <td>0.891389</td>\n",
       "      <td>0.887579</td>\n",
       "      <td>0.888571</td>\n",
       "      <td>0.888978</td>\n",
       "      <td>0.001440</td>\n",
       "    </tr>\n",
       "    <tr>\n",
       "      <th>3</th>\n",
       "      <td>164.410081</td>\n",
       "      <td>2.849948</td>\n",
       "      <td>98.758446</td>\n",
       "      <td>1.915554</td>\n",
       "      <td>10</td>\n",
       "      <td>0.01</td>\n",
       "      <td>{'C': 10, 'gamma': 0.01}</td>\n",
       "      <td>0.977381</td>\n",
       "      <td>0.975476</td>\n",
       "      <td>0.978929</td>\n",
       "      <td>0.974762</td>\n",
       "      <td>0.976637</td>\n",
       "      <td>0.001633</td>\n",
       "      <td>1</td>\n",
       "      <td>0.999643</td>\n",
       "      <td>0.999683</td>\n",
       "      <td>0.999722</td>\n",
       "      <td>0.999762</td>\n",
       "      <td>0.999702</td>\n",
       "      <td>0.000044</td>\n",
       "    </tr>\n",
       "    <tr>\n",
       "      <th>4</th>\n",
       "      <td>168.040193</td>\n",
       "      <td>2.287961</td>\n",
       "      <td>97.158844</td>\n",
       "      <td>7.388441</td>\n",
       "      <td>10</td>\n",
       "      <td>0.001</td>\n",
       "      <td>{'C': 10, 'gamma': 0.001}</td>\n",
       "      <td>0.950238</td>\n",
       "      <td>0.943571</td>\n",
       "      <td>0.951071</td>\n",
       "      <td>0.946667</td>\n",
       "      <td>0.947887</td>\n",
       "      <td>0.002991</td>\n",
       "      <td>5</td>\n",
       "      <td>0.960040</td>\n",
       "      <td>0.960913</td>\n",
       "      <td>0.960714</td>\n",
       "      <td>0.961587</td>\n",
       "      <td>0.960813</td>\n",
       "      <td>0.000552</td>\n",
       "    </tr>\n",
       "  </tbody>\n",
       "</table>\n",
       "</div>"
      ],
      "text/plain": [
       "   mean_fit_time  std_fit_time  mean_score_time  std_score_time param_C  \\\n",
       "0     188.763210      2.122584       107.841897        2.962313       1   \n",
       "1     337.558379      2.436431       144.662939        2.490811       1   \n",
       "2     862.029877      2.948528       282.529215        7.055029       1   \n",
       "3     164.410081      2.849948        98.758446        1.915554      10   \n",
       "4     168.040193      2.287961        97.158844        7.388441      10   \n",
       "\n",
       "  param_gamma                     params  split0_test_score  \\\n",
       "0        0.01    {'C': 1, 'gamma': 0.01}           0.969524   \n",
       "1       0.001   {'C': 1, 'gamma': 0.001}           0.929405   \n",
       "2      0.0001  {'C': 1, 'gamma': 0.0001}           0.888333   \n",
       "3        0.01   {'C': 10, 'gamma': 0.01}           0.977381   \n",
       "4       0.001  {'C': 10, 'gamma': 0.001}           0.950238   \n",
       "\n",
       "   split1_test_score  split2_test_score  split3_test_score  mean_test_score  \\\n",
       "0           0.966786           0.971310           0.965357         0.968244   \n",
       "1           0.919286           0.932143           0.926071         0.926726   \n",
       "2           0.880119           0.889405           0.890357         0.887054   \n",
       "3           0.975476           0.978929           0.974762         0.976637   \n",
       "4           0.943571           0.951071           0.946667         0.947887   \n",
       "\n",
       "   std_test_score  rank_test_score  split0_train_score  split1_train_score  \\\n",
       "0        0.002318                3            0.982738            0.983175   \n",
       "1        0.004804                7            0.931151            0.933651   \n",
       "2        0.004067                9            0.888373            0.891389   \n",
       "3        0.001633                1            0.999643            0.999683   \n",
       "4        0.002991                5            0.960040            0.960913   \n",
       "\n",
       "   split2_train_score  split3_train_score  mean_train_score  std_train_score  \n",
       "0            0.983056            0.983016          0.982996         0.000160  \n",
       "1            0.931389            0.932659          0.932212         0.001009  \n",
       "2            0.887579            0.888571          0.888978         0.001440  \n",
       "3            0.999722            0.999762          0.999702         0.000044  \n",
       "4            0.960714            0.961587          0.960813         0.000552  "
      ]
     },
     "execution_count": 32,
     "metadata": {},
     "output_type": "execute_result"
    }
   ],
   "source": [
    "# cv_results = pd.DataFrame(model_cv.cv_results_)\n",
    "# cv_results.head()"
   ]
  },
  {
   "cell_type": "code",
   "execution_count": 33,
   "metadata": {
    "colab": {
     "base_uri": "https://localhost:8080/",
     "height": 187
    },
    "id": "MDNR2HKoi352",
    "outputId": "a98ba9ec-703a-4e8b-ba7a-94507c083fa8"
   },
   "outputs": [
    {
     "data": {
      "text/html": [
       "<div>\n",
       "<style scoped>\n",
       "    .dataframe tbody tr th:only-of-type {\n",
       "        vertical-align: middle;\n",
       "    }\n",
       "\n",
       "    .dataframe tbody tr th {\n",
       "        vertical-align: top;\n",
       "    }\n",
       "\n",
       "    .dataframe thead th {\n",
       "        text-align: right;\n",
       "    }\n",
       "</style>\n",
       "<table border=\"1\" class=\"dataframe\">\n",
       "  <thead>\n",
       "    <tr style=\"text-align: right;\">\n",
       "      <th></th>\n",
       "      <th>mean_fit_time</th>\n",
       "      <th>std_fit_time</th>\n",
       "      <th>mean_score_time</th>\n",
       "      <th>std_score_time</th>\n",
       "      <th>param_C</th>\n",
       "      <th>param_gamma</th>\n",
       "      <th>params</th>\n",
       "      <th>split0_test_score</th>\n",
       "      <th>split1_test_score</th>\n",
       "      <th>split2_test_score</th>\n",
       "      <th>split3_test_score</th>\n",
       "      <th>mean_test_score</th>\n",
       "      <th>std_test_score</th>\n",
       "      <th>rank_test_score</th>\n",
       "      <th>split0_train_score</th>\n",
       "      <th>split1_train_score</th>\n",
       "      <th>split2_train_score</th>\n",
       "      <th>split3_train_score</th>\n",
       "      <th>mean_train_score</th>\n",
       "      <th>std_train_score</th>\n",
       "    </tr>\n",
       "  </thead>\n",
       "  <tbody>\n",
       "    <tr>\n",
       "      <th>3</th>\n",
       "      <td>164.410081</td>\n",
       "      <td>2.849948</td>\n",
       "      <td>98.758446</td>\n",
       "      <td>1.915554</td>\n",
       "      <td>10</td>\n",
       "      <td>0.01</td>\n",
       "      <td>{'C': 10, 'gamma': 0.01}</td>\n",
       "      <td>0.977381</td>\n",
       "      <td>0.975476</td>\n",
       "      <td>0.978929</td>\n",
       "      <td>0.974762</td>\n",
       "      <td>0.976637</td>\n",
       "      <td>0.001633</td>\n",
       "      <td>1</td>\n",
       "      <td>0.999643</td>\n",
       "      <td>0.999683</td>\n",
       "      <td>0.999722</td>\n",
       "      <td>0.999762</td>\n",
       "      <td>0.999702</td>\n",
       "      <td>0.000044</td>\n",
       "    </tr>\n",
       "    <tr>\n",
       "      <th>6</th>\n",
       "      <td>163.143296</td>\n",
       "      <td>3.621349</td>\n",
       "      <td>91.512228</td>\n",
       "      <td>2.638200</td>\n",
       "      <td>20</td>\n",
       "      <td>0.01</td>\n",
       "      <td>{'C': 20, 'gamma': 0.01}</td>\n",
       "      <td>0.977857</td>\n",
       "      <td>0.975238</td>\n",
       "      <td>0.978333</td>\n",
       "      <td>0.975000</td>\n",
       "      <td>0.976607</td>\n",
       "      <td>0.001500</td>\n",
       "      <td>2</td>\n",
       "      <td>0.999921</td>\n",
       "      <td>0.999960</td>\n",
       "      <td>0.999960</td>\n",
       "      <td>0.999960</td>\n",
       "      <td>0.999950</td>\n",
       "      <td>0.000017</td>\n",
       "    </tr>\n",
       "    <tr>\n",
       "      <th>0</th>\n",
       "      <td>188.763210</td>\n",
       "      <td>2.122584</td>\n",
       "      <td>107.841897</td>\n",
       "      <td>2.962313</td>\n",
       "      <td>1</td>\n",
       "      <td>0.01</td>\n",
       "      <td>{'C': 1, 'gamma': 0.01}</td>\n",
       "      <td>0.969524</td>\n",
       "      <td>0.966786</td>\n",
       "      <td>0.971310</td>\n",
       "      <td>0.965357</td>\n",
       "      <td>0.968244</td>\n",
       "      <td>0.002318</td>\n",
       "      <td>3</td>\n",
       "      <td>0.982738</td>\n",
       "      <td>0.983175</td>\n",
       "      <td>0.983056</td>\n",
       "      <td>0.983016</td>\n",
       "      <td>0.982996</td>\n",
       "      <td>0.000160</td>\n",
       "    </tr>\n",
       "    <tr>\n",
       "      <th>7</th>\n",
       "      <td>152.804434</td>\n",
       "      <td>3.021952</td>\n",
       "      <td>86.967303</td>\n",
       "      <td>4.537312</td>\n",
       "      <td>20</td>\n",
       "      <td>0.001</td>\n",
       "      <td>{'C': 20, 'gamma': 0.001}</td>\n",
       "      <td>0.953095</td>\n",
       "      <td>0.949762</td>\n",
       "      <td>0.955952</td>\n",
       "      <td>0.949643</td>\n",
       "      <td>0.952113</td>\n",
       "      <td>0.002614</td>\n",
       "      <td>4</td>\n",
       "      <td>0.970714</td>\n",
       "      <td>0.971190</td>\n",
       "      <td>0.970635</td>\n",
       "      <td>0.971389</td>\n",
       "      <td>0.970982</td>\n",
       "      <td>0.000317</td>\n",
       "    </tr>\n",
       "    <tr>\n",
       "      <th>4</th>\n",
       "      <td>168.040193</td>\n",
       "      <td>2.287961</td>\n",
       "      <td>97.158844</td>\n",
       "      <td>7.388441</td>\n",
       "      <td>10</td>\n",
       "      <td>0.001</td>\n",
       "      <td>{'C': 10, 'gamma': 0.001}</td>\n",
       "      <td>0.950238</td>\n",
       "      <td>0.943571</td>\n",
       "      <td>0.951071</td>\n",
       "      <td>0.946667</td>\n",
       "      <td>0.947887</td>\n",
       "      <td>0.002991</td>\n",
       "      <td>5</td>\n",
       "      <td>0.960040</td>\n",
       "      <td>0.960913</td>\n",
       "      <td>0.960714</td>\n",
       "      <td>0.961587</td>\n",
       "      <td>0.960813</td>\n",
       "      <td>0.000552</td>\n",
       "    </tr>\n",
       "    <tr>\n",
       "      <th>8</th>\n",
       "      <td>279.309089</td>\n",
       "      <td>1.324996</td>\n",
       "      <td>127.028254</td>\n",
       "      <td>12.954888</td>\n",
       "      <td>20</td>\n",
       "      <td>0.0001</td>\n",
       "      <td>{'C': 20, 'gamma': 0.0001}</td>\n",
       "      <td>0.933929</td>\n",
       "      <td>0.921190</td>\n",
       "      <td>0.935119</td>\n",
       "      <td>0.929524</td>\n",
       "      <td>0.929940</td>\n",
       "      <td>0.005465</td>\n",
       "      <td>6</td>\n",
       "      <td>0.935913</td>\n",
       "      <td>0.938056</td>\n",
       "      <td>0.935159</td>\n",
       "      <td>0.935595</td>\n",
       "      <td>0.936181</td>\n",
       "      <td>0.001115</td>\n",
       "    </tr>\n",
       "    <tr>\n",
       "      <th>1</th>\n",
       "      <td>337.558379</td>\n",
       "      <td>2.436431</td>\n",
       "      <td>144.662939</td>\n",
       "      <td>2.490811</td>\n",
       "      <td>1</td>\n",
       "      <td>0.001</td>\n",
       "      <td>{'C': 1, 'gamma': 0.001}</td>\n",
       "      <td>0.929405</td>\n",
       "      <td>0.919286</td>\n",
       "      <td>0.932143</td>\n",
       "      <td>0.926071</td>\n",
       "      <td>0.926726</td>\n",
       "      <td>0.004804</td>\n",
       "      <td>7</td>\n",
       "      <td>0.931151</td>\n",
       "      <td>0.933651</td>\n",
       "      <td>0.931389</td>\n",
       "      <td>0.932659</td>\n",
       "      <td>0.932212</td>\n",
       "      <td>0.001009</td>\n",
       "    </tr>\n",
       "    <tr>\n",
       "      <th>5</th>\n",
       "      <td>331.623591</td>\n",
       "      <td>11.389338</td>\n",
       "      <td>158.555682</td>\n",
       "      <td>8.964112</td>\n",
       "      <td>10</td>\n",
       "      <td>0.0001</td>\n",
       "      <td>{'C': 10, 'gamma': 0.0001}</td>\n",
       "      <td>0.926071</td>\n",
       "      <td>0.915357</td>\n",
       "      <td>0.928690</td>\n",
       "      <td>0.923571</td>\n",
       "      <td>0.923423</td>\n",
       "      <td>0.004996</td>\n",
       "      <td>8</td>\n",
       "      <td>0.927738</td>\n",
       "      <td>0.929603</td>\n",
       "      <td>0.927341</td>\n",
       "      <td>0.928452</td>\n",
       "      <td>0.928284</td>\n",
       "      <td>0.000860</td>\n",
       "    </tr>\n",
       "    <tr>\n",
       "      <th>2</th>\n",
       "      <td>862.029877</td>\n",
       "      <td>2.948528</td>\n",
       "      <td>282.529215</td>\n",
       "      <td>7.055029</td>\n",
       "      <td>1</td>\n",
       "      <td>0.0001</td>\n",
       "      <td>{'C': 1, 'gamma': 0.0001}</td>\n",
       "      <td>0.888333</td>\n",
       "      <td>0.880119</td>\n",
       "      <td>0.889405</td>\n",
       "      <td>0.890357</td>\n",
       "      <td>0.887054</td>\n",
       "      <td>0.004067</td>\n",
       "      <td>9</td>\n",
       "      <td>0.888373</td>\n",
       "      <td>0.891389</td>\n",
       "      <td>0.887579</td>\n",
       "      <td>0.888571</td>\n",
       "      <td>0.888978</td>\n",
       "      <td>0.001440</td>\n",
       "    </tr>\n",
       "  </tbody>\n",
       "</table>\n",
       "</div>"
      ],
      "text/plain": [
       "   mean_fit_time  std_fit_time  mean_score_time  std_score_time param_C  \\\n",
       "3     164.410081      2.849948        98.758446        1.915554      10   \n",
       "6     163.143296      3.621349        91.512228        2.638200      20   \n",
       "0     188.763210      2.122584       107.841897        2.962313       1   \n",
       "7     152.804434      3.021952        86.967303        4.537312      20   \n",
       "4     168.040193      2.287961        97.158844        7.388441      10   \n",
       "8     279.309089      1.324996       127.028254       12.954888      20   \n",
       "1     337.558379      2.436431       144.662939        2.490811       1   \n",
       "5     331.623591     11.389338       158.555682        8.964112      10   \n",
       "2     862.029877      2.948528       282.529215        7.055029       1   \n",
       "\n",
       "  param_gamma                      params  split0_test_score  \\\n",
       "3        0.01    {'C': 10, 'gamma': 0.01}           0.977381   \n",
       "6        0.01    {'C': 20, 'gamma': 0.01}           0.977857   \n",
       "0        0.01     {'C': 1, 'gamma': 0.01}           0.969524   \n",
       "7       0.001   {'C': 20, 'gamma': 0.001}           0.953095   \n",
       "4       0.001   {'C': 10, 'gamma': 0.001}           0.950238   \n",
       "8      0.0001  {'C': 20, 'gamma': 0.0001}           0.933929   \n",
       "1       0.001    {'C': 1, 'gamma': 0.001}           0.929405   \n",
       "5      0.0001  {'C': 10, 'gamma': 0.0001}           0.926071   \n",
       "2      0.0001   {'C': 1, 'gamma': 0.0001}           0.888333   \n",
       "\n",
       "   split1_test_score  split2_test_score  split3_test_score  mean_test_score  \\\n",
       "3           0.975476           0.978929           0.974762         0.976637   \n",
       "6           0.975238           0.978333           0.975000         0.976607   \n",
       "0           0.966786           0.971310           0.965357         0.968244   \n",
       "7           0.949762           0.955952           0.949643         0.952113   \n",
       "4           0.943571           0.951071           0.946667         0.947887   \n",
       "8           0.921190           0.935119           0.929524         0.929940   \n",
       "1           0.919286           0.932143           0.926071         0.926726   \n",
       "5           0.915357           0.928690           0.923571         0.923423   \n",
       "2           0.880119           0.889405           0.890357         0.887054   \n",
       "\n",
       "   std_test_score  rank_test_score  split0_train_score  split1_train_score  \\\n",
       "3        0.001633                1            0.999643            0.999683   \n",
       "6        0.001500                2            0.999921            0.999960   \n",
       "0        0.002318                3            0.982738            0.983175   \n",
       "7        0.002614                4            0.970714            0.971190   \n",
       "4        0.002991                5            0.960040            0.960913   \n",
       "8        0.005465                6            0.935913            0.938056   \n",
       "1        0.004804                7            0.931151            0.933651   \n",
       "5        0.004996                8            0.927738            0.929603   \n",
       "2        0.004067                9            0.888373            0.891389   \n",
       "\n",
       "   split2_train_score  split3_train_score  mean_train_score  std_train_score  \n",
       "3            0.999722            0.999762          0.999702         0.000044  \n",
       "6            0.999960            0.999960          0.999950         0.000017  \n",
       "0            0.983056            0.983016          0.982996         0.000160  \n",
       "7            0.970635            0.971389          0.970982         0.000317  \n",
       "4            0.960714            0.961587          0.960813         0.000552  \n",
       "8            0.935159            0.935595          0.936181         0.001115  \n",
       "1            0.931389            0.932659          0.932212         0.001009  \n",
       "5            0.927341            0.928452          0.928284         0.000860  \n",
       "2            0.887579            0.888571          0.888978         0.001440  "
      ]
     },
     "execution_count": 33,
     "metadata": {},
     "output_type": "execute_result"
    }
   ],
   "source": [
    "# cv_results.sort_values('mean_test_score',ascending=False)"
   ]
  },
  {
   "cell_type": "markdown",
   "metadata": {
    "id": "R0N-dyV5i353"
   },
   "source": [
    "Based on the above, the optimal hyper parameters for SVC are C = 10 and gamma = 0.01"
   ]
  },
  {
   "cell_type": "code",
   "execution_count": 34,
   "metadata": {
    "id": "7KPObrYui353"
   },
   "outputs": [
    {
     "name": "stdout",
     "output_type": "stream",
     "text": [
      "The best test score is 0.9766369047619048 corresponding to hyperparameters {'C': 10, 'gamma': 0.01}\n"
     ]
    }
   ],
   "source": [
    "# # Optimal accuracy score and hyperparameters\n",
    "# best_score = model_cv.best_score_\n",
    "# best_hyperparams = model_cv.best_params_\n",
    "\n",
    "# print(\"The best test score is {0} corresponding to hyperparameters {1}\".format(best_score, best_hyperparams))"
   ]
  },
  {
   "cell_type": "markdown",
   "metadata": {},
   "source": [
    "***Above code is commented as the Gridsearch will take a longer time to find the optimal hyperparamaters. Please feel free to uncommented the code if necessary.***"
   ]
  },
  {
   "cell_type": "markdown",
   "metadata": {
    "id": "9H73zEgZi353"
   },
   "source": [
    "### Building the model with optimal hyperparameters\n"
   ]
  },
  {
   "cell_type": "code",
   "execution_count": 35,
   "metadata": {
    "id": "tJPwim-3i353"
   },
   "outputs": [],
   "source": [
    "# Model with optimal hyperparameters\n",
    "pca = PCA(n_components = 0.87)\n",
    "pca.fit(X_train)\n",
    "pca_X_train = pca.transform(X_train_scaled)\n",
    "pca_X_val = pca.transform(X_valid_scaled)\n"
   ]
  },
  {
   "cell_type": "code",
   "execution_count": 36,
   "metadata": {
    "id": "JOi3MKEXi353",
    "outputId": "762dd725-e35d-4bd5-d400-7f6246e279bb"
   },
   "outputs": [
    {
     "data": {
      "text/plain": [
       "SVC(C=10, gamma=0.01)"
      ]
     },
     "execution_count": 36,
     "metadata": {},
     "output_type": "execute_result"
    }
   ],
   "source": [
    "model_final = SVC(C=10, gamma=0.01, kernel=\"rbf\")\n",
    "model_final.fit(pca_X_train, y_train) # Fitting the model"
   ]
  },
  {
   "cell_type": "code",
   "execution_count": 37,
   "metadata": {
    "id": "KsVlXFi_i353"
   },
   "outputs": [],
   "source": [
    "#model_final.fit(pca_X_val, y_train)\n",
    "# Prediction on train dataset for Non-linear model\n",
    "y_train_pred_label = model_final.predict(pca_X_train)\n",
    "\n",
    "# Prediction on validation dataset for Non-linear model\n",
    "y_valid_pred_label = model_final.predict(pca_X_val)"
   ]
  },
  {
   "cell_type": "code",
   "execution_count": 38,
   "metadata": {
    "id": "CkHXCGW1i353",
    "outputId": "783ba1f8-9688-4a82-8d77-e4c58be52002"
   },
   "outputs": [
    {
     "data": {
      "text/plain": [
       "0.9972321428571429"
      ]
     },
     "execution_count": 38,
     "metadata": {},
     "output_type": "execute_result"
    }
   ],
   "source": [
    "metrics.accuracy_score(y_train, y_train_pred_label)#accuracy on train data "
   ]
  },
  {
   "cell_type": "code",
   "execution_count": 39,
   "metadata": {
    "id": "GnH2zsJpi353",
    "outputId": "3e8b70f1-0251-41d0-baed-e1ddadb71cd9"
   },
   "outputs": [
    {
     "data": {
      "text/plain": [
       "0.9810714285714286"
      ]
     },
     "execution_count": 39,
     "metadata": {},
     "output_type": "execute_result"
    }
   ],
   "source": [
    "metrics.accuracy_score(y_valid, y_valid_pred_label)#accuracy on validation data "
   ]
  },
  {
   "cell_type": "code",
   "execution_count": 40,
   "metadata": {
    "id": "IgsXD32Fi353",
    "outputId": "f13c62a6-53a9-41d1-d20c-2c27710d17f2"
   },
   "outputs": [
    {
     "name": "stdout",
     "output_type": "stream",
     "text": [
      "              precision    recall  f1-score   support\n",
      "\n",
      "           0       0.98      0.99      0.99       826\n",
      "           1       0.99      0.99      0.99       937\n",
      "           2       0.98      0.99      0.99       835\n",
      "           3       0.98      0.97      0.97       870\n",
      "           4       0.98      0.99      0.98       814\n",
      "           5       0.97      0.97      0.97       759\n",
      "           6       0.99      0.99      0.99       828\n",
      "           7       0.98      0.98      0.98       880\n",
      "           8       0.98      0.98      0.98       813\n",
      "           9       0.98      0.96      0.97       838\n",
      "\n",
      "    accuracy                           0.98      8400\n",
      "   macro avg       0.98      0.98      0.98      8400\n",
      "weighted avg       0.98      0.98      0.98      8400\n",
      "\n"
     ]
    }
   ],
   "source": [
    "print(metrics.classification_report(y_valid, y_valid_pred_label))"
   ]
  },
  {
   "cell_type": "markdown",
   "metadata": {
    "id": "C5KIuM0pi354"
   },
   "source": [
    "## Evaluating on unknown test data (from Kaggle)"
   ]
  },
  {
   "cell_type": "markdown",
   "metadata": {
    "id": "M2My7hlpi354"
   },
   "source": [
    "Considering the test.csv from kaggle website - https://www.kaggle.com/competitions/digit-recognizer/data to predict the label column. Once we have the predicted labels, the output is uploaded to Kaggle for an accuracy score. "
   ]
  },
  {
   "cell_type": "code",
   "execution_count": 41,
   "metadata": {
    "id": "kLcP4OJZi354",
    "outputId": "17bee06f-66fe-4677-c8c0-2528437a8c20"
   },
   "outputs": [
    {
     "data": {
      "text/html": [
       "<div>\n",
       "<style scoped>\n",
       "    .dataframe tbody tr th:only-of-type {\n",
       "        vertical-align: middle;\n",
       "    }\n",
       "\n",
       "    .dataframe tbody tr th {\n",
       "        vertical-align: top;\n",
       "    }\n",
       "\n",
       "    .dataframe thead th {\n",
       "        text-align: right;\n",
       "    }\n",
       "</style>\n",
       "<table border=\"1\" class=\"dataframe\">\n",
       "  <thead>\n",
       "    <tr style=\"text-align: right;\">\n",
       "      <th></th>\n",
       "      <th>pixel0</th>\n",
       "      <th>pixel1</th>\n",
       "      <th>pixel2</th>\n",
       "      <th>pixel3</th>\n",
       "      <th>pixel4</th>\n",
       "      <th>pixel5</th>\n",
       "      <th>pixel6</th>\n",
       "      <th>pixel7</th>\n",
       "      <th>pixel8</th>\n",
       "      <th>pixel9</th>\n",
       "      <th>...</th>\n",
       "      <th>pixel774</th>\n",
       "      <th>pixel775</th>\n",
       "      <th>pixel776</th>\n",
       "      <th>pixel777</th>\n",
       "      <th>pixel778</th>\n",
       "      <th>pixel779</th>\n",
       "      <th>pixel780</th>\n",
       "      <th>pixel781</th>\n",
       "      <th>pixel782</th>\n",
       "      <th>pixel783</th>\n",
       "    </tr>\n",
       "  </thead>\n",
       "  <tbody>\n",
       "    <tr>\n",
       "      <th>0</th>\n",
       "      <td>0</td>\n",
       "      <td>0</td>\n",
       "      <td>0</td>\n",
       "      <td>0</td>\n",
       "      <td>0</td>\n",
       "      <td>0</td>\n",
       "      <td>0</td>\n",
       "      <td>0</td>\n",
       "      <td>0</td>\n",
       "      <td>0</td>\n",
       "      <td>...</td>\n",
       "      <td>0</td>\n",
       "      <td>0</td>\n",
       "      <td>0</td>\n",
       "      <td>0</td>\n",
       "      <td>0</td>\n",
       "      <td>0</td>\n",
       "      <td>0</td>\n",
       "      <td>0</td>\n",
       "      <td>0</td>\n",
       "      <td>0</td>\n",
       "    </tr>\n",
       "    <tr>\n",
       "      <th>1</th>\n",
       "      <td>0</td>\n",
       "      <td>0</td>\n",
       "      <td>0</td>\n",
       "      <td>0</td>\n",
       "      <td>0</td>\n",
       "      <td>0</td>\n",
       "      <td>0</td>\n",
       "      <td>0</td>\n",
       "      <td>0</td>\n",
       "      <td>0</td>\n",
       "      <td>...</td>\n",
       "      <td>0</td>\n",
       "      <td>0</td>\n",
       "      <td>0</td>\n",
       "      <td>0</td>\n",
       "      <td>0</td>\n",
       "      <td>0</td>\n",
       "      <td>0</td>\n",
       "      <td>0</td>\n",
       "      <td>0</td>\n",
       "      <td>0</td>\n",
       "    </tr>\n",
       "    <tr>\n",
       "      <th>2</th>\n",
       "      <td>0</td>\n",
       "      <td>0</td>\n",
       "      <td>0</td>\n",
       "      <td>0</td>\n",
       "      <td>0</td>\n",
       "      <td>0</td>\n",
       "      <td>0</td>\n",
       "      <td>0</td>\n",
       "      <td>0</td>\n",
       "      <td>0</td>\n",
       "      <td>...</td>\n",
       "      <td>0</td>\n",
       "      <td>0</td>\n",
       "      <td>0</td>\n",
       "      <td>0</td>\n",
       "      <td>0</td>\n",
       "      <td>0</td>\n",
       "      <td>0</td>\n",
       "      <td>0</td>\n",
       "      <td>0</td>\n",
       "      <td>0</td>\n",
       "    </tr>\n",
       "    <tr>\n",
       "      <th>3</th>\n",
       "      <td>0</td>\n",
       "      <td>0</td>\n",
       "      <td>0</td>\n",
       "      <td>0</td>\n",
       "      <td>0</td>\n",
       "      <td>0</td>\n",
       "      <td>0</td>\n",
       "      <td>0</td>\n",
       "      <td>0</td>\n",
       "      <td>0</td>\n",
       "      <td>...</td>\n",
       "      <td>0</td>\n",
       "      <td>0</td>\n",
       "      <td>0</td>\n",
       "      <td>0</td>\n",
       "      <td>0</td>\n",
       "      <td>0</td>\n",
       "      <td>0</td>\n",
       "      <td>0</td>\n",
       "      <td>0</td>\n",
       "      <td>0</td>\n",
       "    </tr>\n",
       "    <tr>\n",
       "      <th>4</th>\n",
       "      <td>0</td>\n",
       "      <td>0</td>\n",
       "      <td>0</td>\n",
       "      <td>0</td>\n",
       "      <td>0</td>\n",
       "      <td>0</td>\n",
       "      <td>0</td>\n",
       "      <td>0</td>\n",
       "      <td>0</td>\n",
       "      <td>0</td>\n",
       "      <td>...</td>\n",
       "      <td>0</td>\n",
       "      <td>0</td>\n",
       "      <td>0</td>\n",
       "      <td>0</td>\n",
       "      <td>0</td>\n",
       "      <td>0</td>\n",
       "      <td>0</td>\n",
       "      <td>0</td>\n",
       "      <td>0</td>\n",
       "      <td>0</td>\n",
       "    </tr>\n",
       "  </tbody>\n",
       "</table>\n",
       "<p>5 rows × 784 columns</p>\n",
       "</div>"
      ],
      "text/plain": [
       "   pixel0  pixel1  pixel2  pixel3  pixel4  pixel5  pixel6  pixel7  pixel8  \\\n",
       "0       0       0       0       0       0       0       0       0       0   \n",
       "1       0       0       0       0       0       0       0       0       0   \n",
       "2       0       0       0       0       0       0       0       0       0   \n",
       "3       0       0       0       0       0       0       0       0       0   \n",
       "4       0       0       0       0       0       0       0       0       0   \n",
       "\n",
       "   pixel9  ...  pixel774  pixel775  pixel776  pixel777  pixel778  pixel779  \\\n",
       "0       0  ...         0         0         0         0         0         0   \n",
       "1       0  ...         0         0         0         0         0         0   \n",
       "2       0  ...         0         0         0         0         0         0   \n",
       "3       0  ...         0         0         0         0         0         0   \n",
       "4       0  ...         0         0         0         0         0         0   \n",
       "\n",
       "   pixel780  pixel781  pixel782  pixel783  \n",
       "0         0         0         0         0  \n",
       "1         0         0         0         0  \n",
       "2         0         0         0         0  \n",
       "3         0         0         0         0  \n",
       "4         0         0         0         0  \n",
       "\n",
       "[5 rows x 784 columns]"
      ]
     },
     "execution_count": 41,
     "metadata": {},
     "output_type": "execute_result"
    }
   ],
   "source": [
    "test_data = pd.read_csv('test.csv')# downloaded from https://www.kaggle.com/c/digit-recognizer/data\n",
    "test_data.head()# this data set has no 'label' column"
   ]
  },
  {
   "cell_type": "code",
   "execution_count": 42,
   "metadata": {
    "id": "XdnlqvDHi354",
    "outputId": "d2dd9ea1-2f36-4c5e-dc07-e084e730aad1"
   },
   "outputs": [
    {
     "data": {
      "text/plain": [
       "(8400, 63)"
      ]
     },
     "execution_count": 42,
     "metadata": {},
     "output_type": "execute_result"
    }
   ],
   "source": [
    "pca_X_val.shape"
   ]
  },
  {
   "cell_type": "code",
   "execution_count": 43,
   "metadata": {
    "id": "ymsea5pji354",
    "outputId": "24671f96-95b9-48ed-cb40-eae057073a3d"
   },
   "outputs": [
    {
     "data": {
      "text/plain": [
       "(33600, 63)"
      ]
     },
     "execution_count": 43,
     "metadata": {},
     "output_type": "execute_result"
    }
   ],
   "source": [
    "pca_X_train.shape\n",
    "# pca_X_train = pd.DataFrame(pca_X_train)\n"
   ]
  },
  {
   "cell_type": "code",
   "execution_count": 44,
   "metadata": {
    "id": "D4QAtD5Wi354",
    "outputId": "3763277c-fe80-4ffe-c24c-730ef22fe47e"
   },
   "outputs": [
    {
     "data": {
      "text/plain": [
       "(33600, 63)"
      ]
     },
     "execution_count": 44,
     "metadata": {},
     "output_type": "execute_result"
    }
   ],
   "source": [
    "pca_X_train.shape"
   ]
  },
  {
   "cell_type": "code",
   "execution_count": 45,
   "metadata": {
    "id": "AxTbRvgsi354"
   },
   "outputs": [],
   "source": [
    "test_data = test_data[X_train.columns]"
   ]
  },
  {
   "cell_type": "code",
   "execution_count": 46,
   "metadata": {
    "id": "uqzegMZAi355",
    "outputId": "95853f97-dd21-4867-c0e0-eee3b01aa8cb"
   },
   "outputs": [
    {
     "data": {
      "text/plain": [
       "(33600, 784)"
      ]
     },
     "execution_count": 46,
     "metadata": {},
     "output_type": "execute_result"
    }
   ],
   "source": [
    "X_train_scaled.shape"
   ]
  },
  {
   "cell_type": "code",
   "execution_count": 47,
   "metadata": {
    "id": "5riZgYv0i355",
    "outputId": "07492590-8bbf-4663-a35e-a9571db75da3"
   },
   "outputs": [
    {
     "data": {
      "text/plain": [
       "(28000, 784)"
      ]
     },
     "execution_count": 47,
     "metadata": {},
     "output_type": "execute_result"
    }
   ],
   "source": [
    "test_data.shape"
   ]
  },
  {
   "cell_type": "code",
   "execution_count": 48,
   "metadata": {
    "id": "1GV4AU4Xi355",
    "outputId": "d15ba844-5e6c-4eb0-9d20-8226b21dddbf"
   },
   "outputs": [
    {
     "data": {
      "text/plain": [
       "(33600, 63)"
      ]
     },
     "execution_count": 48,
     "metadata": {},
     "output_type": "execute_result"
    }
   ],
   "source": [
    "pca_X_train.shape"
   ]
  },
  {
   "cell_type": "code",
   "execution_count": 49,
   "metadata": {
    "id": "MOvrDC7Li355"
   },
   "outputs": [],
   "source": [
    "\n",
    "# mnist_test_arr = np.array(test_data)\n",
    "# mnist_test_arr = mnist_test_arr.reshape(mnist_test_arr.shape[0], 28, 28, 1)\n",
    "\n",
    "test_data_scaled = scale.transform(test_data)#feature scaling the data using minmax scaler.\n",
    "# test_data=(test_data-X.min())/(X.max()-X.min())\n",
    "# X_t=df_test[X.columns]\n",
    "# Doing the PCA transform\n",
    "# X_trans=pca.transform(X_t)"
   ]
  },
  {
   "cell_type": "code",
   "execution_count": 50,
   "metadata": {
    "id": "VuYWYGZmi355",
    "outputId": "e7abd269-3df9-498f-cf19-48746e298eeb"
   },
   "outputs": [
    {
     "data": {
      "text/plain": [
       "(28000, 784)"
      ]
     },
     "execution_count": 50,
     "metadata": {},
     "output_type": "execute_result"
    }
   ],
   "source": [
    "test_data_scaled.shape"
   ]
  },
  {
   "cell_type": "code",
   "execution_count": 51,
   "metadata": {
    "id": "W4T4GXeFi355"
   },
   "outputs": [],
   "source": [
    "# pca = PCA(n_components = 0.86)\n",
    "# pca.fit(test_data)\n",
    "pca_X_test = pca.transform(test_data_scaled)"
   ]
  },
  {
   "cell_type": "code",
   "execution_count": 52,
   "metadata": {
    "id": "ozAa_X5Xi355",
    "outputId": "213a0ae7-42a1-4ef6-a174-daba0090d2bf"
   },
   "outputs": [
    {
     "data": {
      "text/plain": [
       "(28000, 63)"
      ]
     },
     "execution_count": 52,
     "metadata": {},
     "output_type": "execute_result"
    }
   ],
   "source": [
    "pca_X_test.shape"
   ]
  },
  {
   "cell_type": "code",
   "execution_count": 53,
   "metadata": {
    "id": "dM_8BWNOi355"
   },
   "outputs": [],
   "source": [
    "y_pred_final = model_final.predict(pca_X_test) #predicting on test data.."
   ]
  },
  {
   "cell_type": "code",
   "execution_count": 54,
   "metadata": {
    "id": "Ugeuky1Ci355",
    "outputId": "6f01d453-fbe1-4b32-8e52-6015103e01ab"
   },
   "outputs": [
    {
     "data": {
      "text/plain": [
       "array([2, 0, 9, ..., 3, 9, 2], dtype=int64)"
      ]
     },
     "execution_count": 54,
     "metadata": {},
     "output_type": "execute_result"
    }
   ],
   "source": [
    "y_pred_final"
   ]
  },
  {
   "cell_type": "code",
   "execution_count": 55,
   "metadata": {
    "id": "Nf8eUXbji356",
    "outputId": "4b94bc57-0063-4f40-e14f-2c4bd0cba012"
   },
   "outputs": [
    {
     "data": {
      "text/html": [
       "<div>\n",
       "<style scoped>\n",
       "    .dataframe tbody tr th:only-of-type {\n",
       "        vertical-align: middle;\n",
       "    }\n",
       "\n",
       "    .dataframe tbody tr th {\n",
       "        vertical-align: top;\n",
       "    }\n",
       "\n",
       "    .dataframe thead th {\n",
       "        text-align: right;\n",
       "    }\n",
       "</style>\n",
       "<table border=\"1\" class=\"dataframe\">\n",
       "  <thead>\n",
       "    <tr style=\"text-align: right;\">\n",
       "      <th></th>\n",
       "      <th>ImageId</th>\n",
       "      <th>Label</th>\n",
       "    </tr>\n",
       "  </thead>\n",
       "  <tbody>\n",
       "    <tr>\n",
       "      <th>0</th>\n",
       "      <td>1</td>\n",
       "      <td>2</td>\n",
       "    </tr>\n",
       "    <tr>\n",
       "      <th>1</th>\n",
       "      <td>2</td>\n",
       "      <td>0</td>\n",
       "    </tr>\n",
       "    <tr>\n",
       "      <th>2</th>\n",
       "      <td>3</td>\n",
       "      <td>9</td>\n",
       "    </tr>\n",
       "    <tr>\n",
       "      <th>3</th>\n",
       "      <td>4</td>\n",
       "      <td>9</td>\n",
       "    </tr>\n",
       "    <tr>\n",
       "      <th>4</th>\n",
       "      <td>5</td>\n",
       "      <td>3</td>\n",
       "    </tr>\n",
       "  </tbody>\n",
       "</table>\n",
       "</div>"
      ],
      "text/plain": [
       "   ImageId  Label\n",
       "0        1      2\n",
       "1        2      0\n",
       "2        3      9\n",
       "3        4      9\n",
       "4        5      3"
      ]
     },
     "execution_count": 55,
     "metadata": {},
     "output_type": "execute_result"
    }
   ],
   "source": [
    "id = np.arange(1,28001,1)#creating a data frame with imageid and predicted label to submit it on kaggle.\n",
    "kaggle_df = pd.concat([pd.Series(id),pd.Series(y_pred_final)],axis=1)\n",
    "kaggle_df.columns = ['ImageId','Label']\n",
    "kaggle_df.head()"
   ]
  },
  {
   "cell_type": "code",
   "execution_count": 56,
   "metadata": {
    "id": "8VMUHWl3i356"
   },
   "outputs": [],
   "source": [
    "kaggle_df.to_csv('mnist_svm.csv',index=False)#exporting is as csv file, submitting it on kaggle and to recieve a score. "
   ]
  },
  {
   "attachments": {
    "image.png": {
     "image/png": "[encoded data removed]"
    }
   },
   "cell_type": "markdown",
   "metadata": {},
   "source": [
    "![image.png](attachment:image.png)"
   ]
  },
  {
   "cell_type": "markdown",
   "metadata": {
    "id": "OcYcfQ3xi356"
   },
   "source": [
    "### Submitting the above result in Kaggle gives me a score of 0.98042"
   ]
  },
  {
   "cell_type": "markdown",
   "metadata": {
    "id": "LqJ-ocPOnTnQ"
   },
   "source": [
    "# CNN Model"
   ]
  },
  {
   "cell_type": "markdown",
   "metadata": {
    "id": "C7Xok05y4Yp1"
   },
   "source": [
    "From face recognition on a phone camera, to self-driving algorithms employed in the most high-end electronic vehicles on the market today - CNN or Convolutional Neural Networks are at the base of most of the breakthrough innovations happening today. CNNs are a type of ANN or Atrificial Neural Network that are mostly used in image processing.\n",
    "\n",
    "How it works:\n",
    "Pixels - we've all heard of this term. With camera phones flexing their dozens or even hundreds of mega-pixel cameras, the term pixel has found a place in common vocabulary in the past few years. A pixel is nothing but a unit area of an image. It is generally represented by a square of 1x1 size.\n",
    "Essnetially, an image can be represented as a matrix of pixels. The more the pixel, the more information can be captured within the picture. Mostly, each pixel contains information in 3 dimensions or channels (most used - Red, Green and Blue channels). These channels talk about how intense a particular color is for a particular pixel.\n",
    "\n",
    "Now, in these matrix of pixels - there are a lot of patterns. For purposes such as image recognition or classification, we can use these patterns to identify which part of an image represents what. For example, in recognizing handwriting, as we are doing here, we can focus on some specific strokes or curves as features. If there is a curve present in an image - it'd be one of the digits that have a curve, say 2,3,5,6,8,9, or 0. Now based on how many curves (features) and their relative locations, we can differentiate between numbers.\n",
    "\n",
    "That is exactly what a CNN does - it adds some hidden layers - whose purpose is to derive features from images that are later used for classification, identification, and recognition."
   ]
  },
  {
   "cell_type": "markdown",
   "metadata": {},
   "source": [
    "## Importing Libraries"
   ]
  },
  {
   "cell_type": "code",
   "execution_count": 4,
   "metadata": {
    "id": "Tvr60pEkoCup"
   },
   "outputs": [],
   "source": [
    "import matplotlib.pyplot as plt\n",
    "import seaborn as sns\n",
    "\n",
    "from sklearn.model_selection import train_test_split\n",
    "from sklearn.metrics import confusion_matrix\n",
    "\n",
    "import keras\n",
    "from keras.models import Sequential\n",
    "from keras.layers import Conv2D, Lambda, MaxPooling2D, Dense, Dropout, Flatten # core layers and convulation layers\n",
    "from keras.datasets import mnist\n",
    "from keras.layers import Dense, Dropout, Flatten\n",
    "from tensorflow.keras.layers import Conv2D, MaxPooling2D\n",
    "from tensorflow.keras.models import Sequential\n",
    "from tensorflow.keras.layers import (BatchNormalization, SeparableConv2D, MaxPooling2D, Activation, Flatten, Dropout, Dense)\n",
    "from tensorflow.keras import backend as K\n",
    "\n",
    "from keras.preprocessing.image import ImageDataGenerator\n",
    "from keras.utils.np_utils import to_categorical"
   ]
  },
  {
   "cell_type": "code",
   "execution_count": 5,
   "metadata": {
    "id": "ZhF0uQXSnRYf"
   },
   "outputs": [],
   "source": [
    "#creating a new dataframe\n",
    "digit1 = digit"
   ]
  },
  {
   "cell_type": "markdown",
   "metadata": {
    "id": "Vd47awFBnvti"
   },
   "source": [
    "Set data features and labels"
   ]
  },
  {
   "cell_type": "code",
   "execution_count": 6,
   "metadata": {
    "id": "vOz_8IvcnhyC"
   },
   "outputs": [],
   "source": [
    "X = digit1.drop(['label'], 1).values\n",
    "y = digit1['label'].values"
   ]
  },
  {
   "cell_type": "markdown",
   "metadata": {
    "id": "CrIuB1LqnxL-"
   },
   "source": [
    "Reshape"
   ]
  },
  {
   "cell_type": "code",
   "execution_count": 7,
   "metadata": {
    "id": "Tm9IsD92nh0z"
   },
   "outputs": [],
   "source": [
    "#Scaling the data \n",
    "''' dividing all the values by 255 will convert it to range from 0 to 1'''\n",
    "X = X / 255.0 "
   ]
  },
  {
   "cell_type": "code",
   "execution_count": 8,
   "metadata": {
    "id": "naZCwe5ctj-o"
   },
   "outputs": [],
   "source": [
    "# Reshape image in 3 dimensions (height = 28px, width = 28px , canal = 1)\n",
    "# canal = 1 => For gray scale\n",
    "X = X.reshape(-1,28,28,1)"
   ]
  },
  {
   "cell_type": "markdown",
   "metadata": {
    "id": "Aloqjovxn2PT"
   },
   "source": [
    "## One-Hot Encoding\""
   ]
  },
  {
   "cell_type": "code",
   "execution_count": 9,
   "metadata": {
    "colab": {
     "base_uri": "https://localhost:8080/"
    },
    "id": "l_vlTc3snh3o",
    "outputId": "00929041-913a-4941-bf7c-0fdda1904469"
   },
   "outputs": [
    {
     "name": "stdout",
     "output_type": "stream",
     "text": [
      "Label size (42000, 10)\n"
     ]
    }
   ],
   "source": [
    "# Encode labels to vectors\n",
    "y = to_categorical(y)\n",
    "\n",
    "print(f\"Label size {y.shape}\")"
   ]
  },
  {
   "cell_type": "markdown",
   "metadata": {
    "id": "HwRCosKFsZ9P"
   },
   "source": [
    "## Split training and valdiation set"
   ]
  },
  {
   "cell_type": "code",
   "execution_count": 10,
   "metadata": {
    "id": "yonQklFpsaiO"
   },
   "outputs": [],
   "source": [
    "# Split the train and the validation set for the fitting\n",
    "X_train, X_test, y_train, y_test = train_test_split(X, y, test_size=0.1, random_state=0)"
   ]
  },
  {
   "cell_type": "code",
   "execution_count": 11,
   "metadata": {
    "colab": {
     "base_uri": "https://localhost:8080/"
    },
    "id": "F6z0ridSsdX2",
    "outputId": "3f5aa2e7-2aed-4fdb-ec4c-c4b637291b1a"
   },
   "outputs": [
    {
     "data": {
      "text/plain": [
       "((37800, 28, 28, 1), (4200, 28, 28, 1), (37800, 10), (4200, 10))"
      ]
     },
     "execution_count": 11,
     "metadata": {},
     "output_type": "execute_result"
    }
   ],
   "source": [
    "X_train.shape, X_test.shape, y_train.shape, y_test.shape"
   ]
  },
  {
   "cell_type": "markdown",
   "metadata": {
    "id": "eO196MrbslK8"
   },
   "source": [
    "## Normalization"
   ]
  },
  {
   "cell_type": "code",
   "execution_count": 12,
   "metadata": {
    "id": "jD_Nb2w_sltq"
   },
   "outputs": [],
   "source": [
    "mean = np.mean(X_train)\n",
    "std = np.std(X_train)\n",
    "\n",
    "def standardize(x):\n",
    "    return (x-mean)/std"
   ]
  },
  {
   "cell_type": "code",
   "execution_count": 13,
   "metadata": {
    "colab": {
     "base_uri": "https://localhost:8080/",
     "height": 307
    },
    "id": "sWAiNMzRtT5X",
    "outputId": "532acf56-b8a7-429a-9b3b-dae41c6a8c49"
   },
   "outputs": [
    {
     "data": {
      "image/png": "[encoded data removed]",
      "text/plain": [
       "<Figure size 1440x720 with 4 Axes>"
      ]
     },
     "metadata": {
      "needs_background": "light"
     },
     "output_type": "display_data"
    }
   ],
   "source": [
    "X_train__ = X_train.reshape(X_train.shape[0], 28, 28)\n",
    "\n",
    "fig, axis = plt.subplots(1, 4, figsize=(20, 10))\n",
    "for i, ax in enumerate(axis.flat):\n",
    "    ax.imshow(X_train__[i], cmap='binary')\n",
    "    digit = y_train[i].argmax()\n",
    "    ax.set(title = f\"Real Number is {digit}\");"
   ]
  },
  {
   "cell_type": "markdown",
   "metadata": {
    "id": "x-_xsYMgrXjP"
   },
   "source": [
    "## Building Model"
   ]
  },
  {
   "cell_type": "code",
   "execution_count": 14,
   "metadata": {
    "id": "dnOScHD7nh6e"
   },
   "outputs": [],
   "source": [
    "model=Sequential()\n",
    " \n",
    "model.add(Conv2D(filters=64, kernel_size = (3,3), activation=\"relu\", input_shape=(28,28,1)))\n",
    "model.add(Conv2D(filters=64, kernel_size = (3,3), activation=\"relu\"))\n",
    "model.add(MaxPooling2D(pool_size=(2,2)))\n",
    "model.add(BatchNormalization())\n",
    "model.add(Conv2D(filters=128, kernel_size = (3,3), activation=\"relu\"))\n",
    "model.add(Conv2D(filters=128, kernel_size = (3,3), activation=\"relu\"))\n",
    "model.add(MaxPooling2D(pool_size=(2,2)))\n",
    "model.add(BatchNormalization())    \n",
    "model.add(Conv2D(filters=256, kernel_size = (3,3), activation=\"relu\"))\n",
    "model.add(MaxPooling2D(pool_size=(2,2)))\n",
    "model.add(BatchNormalization())\n",
    "model.add(Flatten())\n",
    "model.add(Dense(512,activation=\"relu\"))  \n",
    "model.add(Dense(10,activation=\"softmax\"))    \n",
    "model.compile(loss=\"categorical_crossentropy\", optimizer=\"adam\", metrics=[\"accuracy\"])"
   ]
  },
  {
   "cell_type": "code",
   "execution_count": 15,
   "metadata": {
    "colab": {
     "base_uri": "https://localhost:8080/"
    },
    "id": "NV_wOcKfnh88",
    "outputId": "a683f579-9621-4e81-fece-e195e278fc5c"
   },
   "outputs": [
    {
     "name": "stdout",
     "output_type": "stream",
     "text": [
      "Model: \"sequential\"\n",
      "_________________________________________________________________\n",
      "Layer (type)                 Output Shape              Param #   \n",
      "=================================================================\n",
      "conv2d (Conv2D)              (None, 26, 26, 64)        640       \n",
      "_________________________________________________________________\n",
      "conv2d_1 (Conv2D)            (None, 24, 24, 64)        36928     \n",
      "_________________________________________________________________\n",
      "max_pooling2d (MaxPooling2D) (None, 12, 12, 64)        0         \n",
      "_________________________________________________________________\n",
      "batch_normalization (BatchNo (None, 12, 12, 64)        256       \n",
      "_________________________________________________________________\n",
      "conv2d_2 (Conv2D)            (None, 10, 10, 128)       73856     \n",
      "_________________________________________________________________\n",
      "conv2d_3 (Conv2D)            (None, 8, 8, 128)         147584    \n",
      "_________________________________________________________________\n",
      "max_pooling2d_1 (MaxPooling2 (None, 4, 4, 128)         0         \n",
      "_________________________________________________________________\n",
      "batch_normalization_1 (Batch (None, 4, 4, 128)         512       \n",
      "_________________________________________________________________\n",
      "conv2d_4 (Conv2D)            (None, 2, 2, 256)         295168    \n",
      "_________________________________________________________________\n",
      "max_pooling2d_2 (MaxPooling2 (None, 1, 1, 256)         0         \n",
      "_________________________________________________________________\n",
      "batch_normalization_2 (Batch (None, 1, 1, 256)         1024      \n",
      "_________________________________________________________________\n",
      "flatten (Flatten)            (None, 256)               0         \n",
      "_________________________________________________________________\n",
      "dense (Dense)                (None, 512)               131584    \n",
      "_________________________________________________________________\n",
      "dense_1 (Dense)              (None, 10)                5130      \n",
      "=================================================================\n",
      "Total params: 692,682\n",
      "Trainable params: 691,786\n",
      "Non-trainable params: 896\n",
      "_________________________________________________________________\n"
     ]
    }
   ],
   "source": [
    "model.summary()"
   ]
  },
  {
   "cell_type": "markdown",
   "metadata": {
    "id": "hZHswJntsG-8"
   },
   "source": [
    "Data augmentation"
   ]
  },
  {
   "cell_type": "markdown",
   "metadata": {
    "id": "vbcUO7ctsLid"
   },
   "source": [
    "Data augmentation is a technique in which one alters the training data that change representation, while keeping the label same. This technique is one of the ways to avoid the problem of overfitting. In this solution, we can expand our handwritten digit dataset. We can make the existing dataset even larger. The idea is to alter the training data with small transformations to reproduce the variations occuring when someone is writing a digit.\n",
    "\n",
    "By applying just a couple of these transformations to our training data, we can easily double or triple the number of training examples. This massive increase in training data leads to much more robust results and better models."
   ]
  },
  {
   "cell_type": "code",
   "execution_count": 16,
   "metadata": {
    "id": "-wmJ4YZVnh_g"
   },
   "outputs": [],
   "source": [
    "datagen = ImageDataGenerator(\n",
    "        featurewise_center=False,  #set input mean to 0 over the dataset\n",
    "        samplewise_center=False,  #set each sample mean to 0\n",
    "        featurewise_std_normalization=False,  #divide inputs by std\n",
    "        samplewise_std_normalization=False,  #divide each input by its std\n",
    "        zca_whitening=False,  #ZCA whitening\n",
    "        rotation_range=15,  #rotate images\n",
    "        zoom_range = 0.015, #Randomly zoom images \n",
    "        width_shift_range=0.15,  #shift images horizontally\n",
    "        height_shift_range=0.15,  #shift images vertically\n",
    "        horizontal_flip=False,  #flip images horizontally\n",
    "        vertical_flip=False)  #flip images vertically\n",
    "\n",
    "\n",
    "#datagen.fit(X_train)\n",
    "train_gen = datagen.flow(X_train, y_train, batch_size=128)\n",
    "test_gen = datagen.flow(X_test, y_test, batch_size=128)"
   ]
  },
  {
   "cell_type": "markdown",
   "metadata": {
    "id": "BTy1nxJ9trGL"
   },
   "source": [
    "Data was augmented (to enhance the training set and accuracy, as described) by:\n",
    "\n",
    "* Rotating randomized training images by 15 degrees\n",
    "* Zooming random training images by 15% \n",
    "* Horizontally and Vertically shifting images by 15%"
   ]
  },
  {
   "cell_type": "markdown",
   "metadata": {
    "id": "b9Di_nWotx0-"
   },
   "source": [
    "## Model training"
   ]
  },
  {
   "cell_type": "code",
   "execution_count": 17,
   "metadata": {
    "id": "64z681qIsH35"
   },
   "outputs": [],
   "source": [
    "epochs = 3\n",
    "batch_size = 128\n",
    "train_steps = X_train.shape[0] // batch_size\n",
    "valid_steps = X_test.shape[0] // batch_size\n",
    "\n",
    "es = keras.callbacks.EarlyStopping(\n",
    "        monitor=\"val_acc\", # metrics to monitor\n",
    "        patience=10, # how many epochs before stop\n",
    "        verbose=1,\n",
    "        mode=\"max\", # we need the maximum accuracy.\n",
    "        restore_best_weights=True, # \n",
    "     )\n",
    "\n",
    "rp = keras.callbacks.ReduceLROnPlateau(\n",
    "        monitor=\"val_acc\",\n",
    "        factor=0.2,\n",
    "        patience=3,\n",
    "        verbose=1,\n",
    "        mode=\"max\",\n",
    "        min_lr=0.00001,\n",
    "     )"
   ]
  },
  {
   "cell_type": "code",
   "execution_count": 18,
   "metadata": {
    "colab": {
     "base_uri": "https://localhost:8080/"
    },
    "id": "f4X3NJcesH6c",
    "outputId": "a188f701-0144-4c30-d9c3-badce1f6887a"
   },
   "outputs": [
    {
     "name": "stdout",
     "output_type": "stream",
     "text": [
      "WARNING:tensorflow:From <ipython-input-18-2676189ccf2f>:2: Model.fit_generator (from tensorflow.python.keras.engine.training) is deprecated and will be removed in a future version.\n",
      "Instructions for updating:\n",
      "Please use Model.fit, which supports generators.\n",
      "Epoch 1/3\n",
      "295/295 [==============================] - ETA: 0s - loss: 0.2001 - accuracy: 0.9368WARNING:tensorflow:Early stopping conditioned on metric `val_acc` which is not available. Available metrics are: loss,accuracy,val_loss,val_accuracy\n",
      "WARNING:tensorflow:Reduce LR on plateau conditioned on metric `val_acc` which is not available. Available metrics are: loss,accuracy,val_loss,val_accuracy,lr\n",
      "295/295 [==============================] - 74s 252ms/step - loss: 0.2001 - accuracy: 0.9368 - val_loss: 1.2350 - val_accuracy: 0.6101\n",
      "Epoch 2/3\n",
      "295/295 [==============================] - ETA: 0s - loss: 0.0749 - accuracy: 0.9767WARNING:tensorflow:Early stopping conditioned on metric `val_acc` which is not available. Available metrics are: loss,accuracy,val_loss,val_accuracy\n",
      "WARNING:tensorflow:Reduce LR on plateau conditioned on metric `val_acc` which is not available. Available metrics are: loss,accuracy,val_loss,val_accuracy,lr\n",
      "295/295 [==============================] - 74s 251ms/step - loss: 0.0749 - accuracy: 0.9767 - val_loss: 0.1058 - val_accuracy: 0.9707\n",
      "Epoch 3/3\n",
      "295/295 [==============================] - ETA: 0s - loss: 0.0581 - accuracy: 0.9817WARNING:tensorflow:Early stopping conditioned on metric `val_acc` which is not available. Available metrics are: loss,accuracy,val_loss,val_accuracy\n",
      "WARNING:tensorflow:Reduce LR on plateau conditioned on metric `val_acc` which is not available. Available metrics are: loss,accuracy,val_loss,val_accuracy,lr\n",
      "295/295 [==============================] - 74s 249ms/step - loss: 0.0581 - accuracy: 0.9817 - val_loss: 0.0611 - val_accuracy: 0.9817\n"
     ]
    }
   ],
   "source": [
    "# Fit the model\n",
    "history = model.fit_generator(train_gen, \n",
    "                              epochs = epochs, \n",
    "                              steps_per_epoch = train_steps,\n",
    "                              validation_data = test_gen,\n",
    "                              validation_steps = valid_steps, \n",
    "                              callbacks=[es, rp])"
   ]
  },
  {
   "cell_type": "markdown",
   "metadata": {
    "id": "6RtRMTmbt7s4"
   },
   "source": [
    "### Plot CNN model"
   ]
  },
  {
   "cell_type": "code",
   "execution_count": 19,
   "metadata": {
    "colab": {
     "base_uri": "https://localhost:8080/",
     "height": 592
    },
    "id": "zu5qWyG6sH84",
    "outputId": "68b1bb9c-6443-46c6-d429-6c1c95117909"
   },
   "outputs": [
    {
     "data": {
      "image/png": "[encoded data removed]",
      "text/plain": [
       "<Figure size 1296x720 with 2 Axes>"
      ]
     },
     "metadata": {
      "needs_background": "light"
     },
     "output_type": "display_data"
    }
   ],
   "source": [
    "# Loss and accuracy curves for training and validation are plotted below\n",
    "fig, ax = plt.subplots(2,1, figsize=(18, 10))\n",
    "ax[0].plot(history.history['loss'], color='b', label=\"Training loss\")\n",
    "ax[0].plot(history.history['val_loss'], color='r', label=\"validation loss\",axes =ax[0])\n",
    "legend = ax[0].legend(loc='best', shadow=True)\n",
    "\n",
    "ax[1].plot(history.history['accuracy'], color='b', label=\"Training accuracy\")\n",
    "ax[1].plot(history.history['val_accuracy'], color='r',label=\"Validation accuracy\")\n",
    "legend = ax[1].legend(loc='best', shadow=True)"
   ]
  },
  {
   "cell_type": "markdown",
   "metadata": {
    "id": "vq0aLo69uCvV"
   },
   "source": [
    "### Confusion matrix"
   ]
  },
  {
   "cell_type": "markdown",
   "metadata": {
    "id": "c1xSh3tnuGCJ"
   },
   "source": [
    "Confusion matrix brings model shortcomings to light. The confusion matrix plotted below is going to show us the validation results."
   ]
  },
  {
   "cell_type": "code",
   "execution_count": 20,
   "metadata": {
    "colab": {
     "base_uri": "https://localhost:8080/",
     "height": 606
    },
    "id": "rOH8nMUesH_T",
    "outputId": "4c76d299-f546-439c-da19-e101159eaabf"
   },
   "outputs": [
    {
     "data": {
      "image/png": "[encoded data removed]",
      "text/plain": [
       "<Figure size 720x720 with 1 Axes>"
      ]
     },
     "metadata": {
      "needs_background": "light"
     },
     "output_type": "display_data"
    }
   ],
   "source": [
    "fig = plt.figure(figsize=(10, 10)) # Set Figure\n",
    "\n",
    "y_pred = model.predict(X_test) # Predict class probabilities\n",
    "\n",
    "Y_pred = np.argmax(y_pred, 1) \n",
    "Y_test = np.argmax(y_test, 1)\n",
    "\n",
    "conf_mat = confusion_matrix(Y_test, Y_pred) # Confusion matrix\n",
    "\n",
    "# Plot Confusion matrix\n",
    "sns.heatmap(conf_mat.T, square=True, annot=True, cbar=False, cmap=plt.cm.Blues, fmt='.0f')\n",
    "plt.xlabel('Predictions')\n",
    "plt.ylabel('Real Values');\n",
    "plt.show();"
   ]
  },
  {
   "cell_type": "markdown",
   "metadata": {
    "id": "Ccb3PmkTuNQ2"
   },
   "source": [
    "Prediction has been validated below"
   ]
  },
  {
   "cell_type": "code",
   "execution_count": 21,
   "metadata": {
    "colab": {
     "base_uri": "https://localhost:8080/",
     "height": 820
    },
    "id": "4ogPGyliniB5",
    "outputId": "40cb7312-7d15-4ef4-cd8f-c7b336d865ef"
   },
   "outputs": [
    {
     "data": {
      "image/png": "[encoded data removed]",
      "text/plain": [
       "<Figure size 864x1008 with 16 Axes>"
      ]
     },
     "metadata": {
      "needs_background": "light"
     },
     "output_type": "display_data"
    }
   ],
   "source": [
    "y_pred = model.predict(X_test)\n",
    "X_test__ = X_test.reshape(X_test.shape[0], 28, 28)\n",
    "\n",
    "fig, axis = plt.subplots(4, 4, figsize=(12, 14))\n",
    "for i, ax in enumerate(axis.flat):\n",
    "    ax.imshow(X_test__[i], cmap='binary')\n",
    "    ax.set(title = f\"Real Number is {y_test[i].argmax()}\\nPrediction is {y_pred[i].argmax()}\");"
   ]
  },
  {
   "cell_type": "markdown",
   "metadata": {},
   "source": [
    "## Evaluating on unknown test data (from Kaggle)"
   ]
  },
  {
   "cell_type": "markdown",
   "metadata": {},
   "source": [
    "Considering the test.csv from kaggle website - https://www.kaggle.com/competitions/digit-recognizer/data to predict the label column. Once we have the predicted labels, the output is uploaded to Kaggle for an accuracy score. "
   ]
  },
  {
   "cell_type": "code",
   "execution_count": 22,
   "metadata": {},
   "outputs": [
    {
     "data": {
      "text/html": [
       "<div>\n",
       "<style scoped>\n",
       "    .dataframe tbody tr th:only-of-type {\n",
       "        vertical-align: middle;\n",
       "    }\n",
       "\n",
       "    .dataframe tbody tr th {\n",
       "        vertical-align: top;\n",
       "    }\n",
       "\n",
       "    .dataframe thead th {\n",
       "        text-align: right;\n",
       "    }\n",
       "</style>\n",
       "<table border=\"1\" class=\"dataframe\">\n",
       "  <thead>\n",
       "    <tr style=\"text-align: right;\">\n",
       "      <th></th>\n",
       "      <th>pixel0</th>\n",
       "      <th>pixel1</th>\n",
       "      <th>pixel2</th>\n",
       "      <th>pixel3</th>\n",
       "      <th>pixel4</th>\n",
       "      <th>pixel5</th>\n",
       "      <th>pixel6</th>\n",
       "      <th>pixel7</th>\n",
       "      <th>pixel8</th>\n",
       "      <th>pixel9</th>\n",
       "      <th>...</th>\n",
       "      <th>pixel774</th>\n",
       "      <th>pixel775</th>\n",
       "      <th>pixel776</th>\n",
       "      <th>pixel777</th>\n",
       "      <th>pixel778</th>\n",
       "      <th>pixel779</th>\n",
       "      <th>pixel780</th>\n",
       "      <th>pixel781</th>\n",
       "      <th>pixel782</th>\n",
       "      <th>pixel783</th>\n",
       "    </tr>\n",
       "  </thead>\n",
       "  <tbody>\n",
       "    <tr>\n",
       "      <th>0</th>\n",
       "      <td>0</td>\n",
       "      <td>0</td>\n",
       "      <td>0</td>\n",
       "      <td>0</td>\n",
       "      <td>0</td>\n",
       "      <td>0</td>\n",
       "      <td>0</td>\n",
       "      <td>0</td>\n",
       "      <td>0</td>\n",
       "      <td>0</td>\n",
       "      <td>...</td>\n",
       "      <td>0</td>\n",
       "      <td>0</td>\n",
       "      <td>0</td>\n",
       "      <td>0</td>\n",
       "      <td>0</td>\n",
       "      <td>0</td>\n",
       "      <td>0</td>\n",
       "      <td>0</td>\n",
       "      <td>0</td>\n",
       "      <td>0</td>\n",
       "    </tr>\n",
       "    <tr>\n",
       "      <th>1</th>\n",
       "      <td>0</td>\n",
       "      <td>0</td>\n",
       "      <td>0</td>\n",
       "      <td>0</td>\n",
       "      <td>0</td>\n",
       "      <td>0</td>\n",
       "      <td>0</td>\n",
       "      <td>0</td>\n",
       "      <td>0</td>\n",
       "      <td>0</td>\n",
       "      <td>...</td>\n",
       "      <td>0</td>\n",
       "      <td>0</td>\n",
       "      <td>0</td>\n",
       "      <td>0</td>\n",
       "      <td>0</td>\n",
       "      <td>0</td>\n",
       "      <td>0</td>\n",
       "      <td>0</td>\n",
       "      <td>0</td>\n",
       "      <td>0</td>\n",
       "    </tr>\n",
       "    <tr>\n",
       "      <th>2</th>\n",
       "      <td>0</td>\n",
       "      <td>0</td>\n",
       "      <td>0</td>\n",
       "      <td>0</td>\n",
       "      <td>0</td>\n",
       "      <td>0</td>\n",
       "      <td>0</td>\n",
       "      <td>0</td>\n",
       "      <td>0</td>\n",
       "      <td>0</td>\n",
       "      <td>...</td>\n",
       "      <td>0</td>\n",
       "      <td>0</td>\n",
       "      <td>0</td>\n",
       "      <td>0</td>\n",
       "      <td>0</td>\n",
       "      <td>0</td>\n",
       "      <td>0</td>\n",
       "      <td>0</td>\n",
       "      <td>0</td>\n",
       "      <td>0</td>\n",
       "    </tr>\n",
       "    <tr>\n",
       "      <th>3</th>\n",
       "      <td>0</td>\n",
       "      <td>0</td>\n",
       "      <td>0</td>\n",
       "      <td>0</td>\n",
       "      <td>0</td>\n",
       "      <td>0</td>\n",
       "      <td>0</td>\n",
       "      <td>0</td>\n",
       "      <td>0</td>\n",
       "      <td>0</td>\n",
       "      <td>...</td>\n",
       "      <td>0</td>\n",
       "      <td>0</td>\n",
       "      <td>0</td>\n",
       "      <td>0</td>\n",
       "      <td>0</td>\n",
       "      <td>0</td>\n",
       "      <td>0</td>\n",
       "      <td>0</td>\n",
       "      <td>0</td>\n",
       "      <td>0</td>\n",
       "    </tr>\n",
       "    <tr>\n",
       "      <th>4</th>\n",
       "      <td>0</td>\n",
       "      <td>0</td>\n",
       "      <td>0</td>\n",
       "      <td>0</td>\n",
       "      <td>0</td>\n",
       "      <td>0</td>\n",
       "      <td>0</td>\n",
       "      <td>0</td>\n",
       "      <td>0</td>\n",
       "      <td>0</td>\n",
       "      <td>...</td>\n",
       "      <td>0</td>\n",
       "      <td>0</td>\n",
       "      <td>0</td>\n",
       "      <td>0</td>\n",
       "      <td>0</td>\n",
       "      <td>0</td>\n",
       "      <td>0</td>\n",
       "      <td>0</td>\n",
       "      <td>0</td>\n",
       "      <td>0</td>\n",
       "    </tr>\n",
       "  </tbody>\n",
       "</table>\n",
       "<p>5 rows × 784 columns</p>\n",
       "</div>"
      ],
      "text/plain": [
       "   pixel0  pixel1  pixel2  pixel3  pixel4  pixel5  pixel6  pixel7  pixel8  \\\n",
       "0       0       0       0       0       0       0       0       0       0   \n",
       "1       0       0       0       0       0       0       0       0       0   \n",
       "2       0       0       0       0       0       0       0       0       0   \n",
       "3       0       0       0       0       0       0       0       0       0   \n",
       "4       0       0       0       0       0       0       0       0       0   \n",
       "\n",
       "   pixel9  ...  pixel774  pixel775  pixel776  pixel777  pixel778  pixel779  \\\n",
       "0       0  ...         0         0         0         0         0         0   \n",
       "1       0  ...         0         0         0         0         0         0   \n",
       "2       0  ...         0         0         0         0         0         0   \n",
       "3       0  ...         0         0         0         0         0         0   \n",
       "4       0  ...         0         0         0         0         0         0   \n",
       "\n",
       "   pixel780  pixel781  pixel782  pixel783  \n",
       "0         0         0         0         0  \n",
       "1         0         0         0         0  \n",
       "2         0         0         0         0  \n",
       "3         0         0         0         0  \n",
       "4         0         0         0         0  \n",
       "\n",
       "[5 rows x 784 columns]"
      ]
     },
     "execution_count": 22,
     "metadata": {},
     "output_type": "execute_result"
    }
   ],
   "source": [
    "digit_test = pd.read_csv(\"test.csv\")\n",
    "digit_test.head()\n"
   ]
  },
  {
   "cell_type": "code",
   "execution_count": 23,
   "metadata": {},
   "outputs": [],
   "source": [
    "\n",
    "digit_test = digit_test.values\n",
    "digit_test = digit_test / 255.0\n",
    "digit_test = digit_test.reshape(-1,28,28,1)\n",
    "\n"
   ]
  },
  {
   "cell_type": "code",
   "execution_count": 24,
   "metadata": {},
   "outputs": [],
   "source": [
    "# predict test data\n",
    "# pred = model.predict_classes(digit_test, verbose=1)\n",
    "predict_x=model.predict(digit_test)\n",
    "pred = np.argmax(predict_x,axis=1)"
   ]
  },
  {
   "cell_type": "code",
   "execution_count": 25,
   "metadata": {},
   "outputs": [
    {
     "data": {
      "text/html": [
       "<div>\n",
       "<style scoped>\n",
       "    .dataframe tbody tr th:only-of-type {\n",
       "        vertical-align: middle;\n",
       "    }\n",
       "\n",
       "    .dataframe tbody tr th {\n",
       "        vertical-align: top;\n",
       "    }\n",
       "\n",
       "    .dataframe thead th {\n",
       "        text-align: right;\n",
       "    }\n",
       "</style>\n",
       "<table border=\"1\" class=\"dataframe\">\n",
       "  <thead>\n",
       "    <tr style=\"text-align: right;\">\n",
       "      <th></th>\n",
       "      <th>ImageId</th>\n",
       "      <th>Label</th>\n",
       "    </tr>\n",
       "  </thead>\n",
       "  <tbody>\n",
       "    <tr>\n",
       "      <th>0</th>\n",
       "      <td>1</td>\n",
       "      <td>2</td>\n",
       "    </tr>\n",
       "    <tr>\n",
       "      <th>1</th>\n",
       "      <td>2</td>\n",
       "      <td>0</td>\n",
       "    </tr>\n",
       "    <tr>\n",
       "      <th>2</th>\n",
       "      <td>3</td>\n",
       "      <td>9</td>\n",
       "    </tr>\n",
       "    <tr>\n",
       "      <th>3</th>\n",
       "      <td>4</td>\n",
       "      <td>0</td>\n",
       "    </tr>\n",
       "    <tr>\n",
       "      <th>4</th>\n",
       "      <td>5</td>\n",
       "      <td>3</td>\n",
       "    </tr>\n",
       "  </tbody>\n",
       "</table>\n",
       "</div>"
      ],
      "text/plain": [
       "   ImageId  Label\n",
       "0        1      2\n",
       "1        2      0\n",
       "2        3      9\n",
       "3        4      0\n",
       "4        5      3"
      ]
     },
     "execution_count": 25,
     "metadata": {},
     "output_type": "execute_result"
    }
   ],
   "source": [
    "id = np.arange(1,28001,1)#creating a data frame with imageid and predicted label to submit it on kaggle.\n",
    "kaggle_df_cnn = pd.concat([pd.Series(id),pd.Series(pred)],axis=1)\n",
    "kaggle_df_cnn.columns = ['ImageId','Label']\n",
    "kaggle_df_cnn.head()"
   ]
  },
  {
   "cell_type": "code",
   "execution_count": 33,
   "metadata": {},
   "outputs": [],
   "source": [
    "kaggle_df_cnn.to_csv('mnist_cnn.csv',index=False)#exporting is as csv file, submitting it on kaggle and to recieve a score. "
   ]
  },
  {
   "attachments": {
    "image.png": {
     "image/png": "[encoded data removed]"
    }
   },
   "cell_type": "markdown",
   "metadata": {},
   "source": [
    "![image.png](attachment:image.png)\n"
   ]
  },
  {
   "cell_type": "markdown",
   "metadata": {},
   "source": [
    "### Submitting on Kaggle gives us a accuracy of 0.98585"
   ]
  },
  {
   "cell_type": "markdown",
   "metadata": {
    "id": "6fcpbYGFi356"
   },
   "source": [
    "## Conclusion\n"
   ]
  },
  {
   "cell_type": "markdown",
   "metadata": {},
   "source": [
    "### On SVM"
   ]
  },
  {
   "cell_type": "markdown",
   "metadata": {},
   "source": [
    "-\tThere was no need of any outlier treatment(we have to consider all the values to predict a label). There was no need for dummy variables or any conversion to categorical variables. Scaling or Normalization may be required before PCA. \n",
    "-\tSince we have 784 features explaining a label, it was necessary that we bring in PCA to summarize the content and explain the variance using Principal Components\n",
    "-\tThe model was trained on two different kernel types – RBF and Linear. RBF was giving the highest accuracy explaining 86% variance in the data set. \n",
    "-\tWith n_components= 0.86, C = 10 and gamma = 0.01, Training samples have significant impact on the model – giving an accuracy of ~99%\n",
    "-\tAccuracy when predicted labels (predicted on test data) are uploaded to Kaggle gives us around 98%\n"
   ]
  },
  {
   "cell_type": "markdown",
   "metadata": {},
   "source": [
    "### On CNN"
   ]
  },
  {
   "cell_type": "markdown",
   "metadata": {},
   "source": [
    "- Again, there no need of any outlier treatment or pre-processing of the dataset other than scaling or normalization.\n",
    "- We have choosen Keras Sequential Model\n",
    "- This model gives us an accuracy of 98.5% on the test data when uploaded to kaggle"
   ]
  },
  {
   "cell_type": "markdown",
   "metadata": {},
   "source": [
    "Thus, using CNN it gives us the highest accuracy on test data set = 98%"
   ]
  },
  {
   "cell_type": "code",
   "execution_count": null,
   "metadata": {},
   "outputs": [],
   "source": []
  }
 ],
 "metadata": {
  "colab": {
   "name": "MNSIT(Vector Victors) (2).ipynb",
   "provenance": []
  },
  "kernelspec": {
   "display_name": "Python 3",
   "language": "python",
   "name": "python3"
  },
  "language_info": {
   "codemirror_mode": {
    "name": "ipython",
    "version": 3
   },
   "file_extension": ".py",
   "mimetype": "text/x-python",
   "name": "python",
   "nbconvert_exporter": "python",
   "pygments_lexer": "ipython3",
   "version": "3.8.8"
  }
 },
 "nbformat": 4,
 "nbformat_minor": 1
}
